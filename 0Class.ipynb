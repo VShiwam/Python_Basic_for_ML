{
  "cells": [
    {
      "cell_type": "code",
      "execution_count": 45,
      "metadata": {
        "colab": {
          "base_uri": "https://localhost:8080/"
        },
        "id": "7G4RNCEbgv4Q",
        "outputId": "34fbebcf-8494-4cd1-ae4d-2568568f55a3"
      },
      "outputs": [
        {
          "name": "stdout",
          "output_type": "stream",
          "text": [
            "Hello World\n"
          ]
        }
      ],
      "source": [
        "print('Hello World')"
      ]
    },
    {
      "cell_type": "markdown",
      "metadata": {
        "id": "6oXCnghtrBMC"
      },
      "source": [
        "\n",
        "Mutable and Immutable\n",
        "\n"
      ]
    },
    {
      "cell_type": "code",
      "execution_count": 46,
      "metadata": {
        "colab": {
          "base_uri": "https://localhost:8080/"
        },
        "id": "xpBYvAmzg_EZ",
        "outputId": "bd5af58d-4752-46bf-9124-15c6d90ede24"
      },
      "outputs": [
        {
          "name": "stdout",
          "output_type": "stream",
          "text": [
            "[1, 2, 3, 4]\n",
            "{'a': 1, 'b': 2, 'c': 3}\n",
            "Hello\n",
            "Hello World\n"
          ]
        }
      ],
      "source": [
        "#Mutable\n",
        "#list\n",
        "my_list = [1, 2, 3]\n",
        "my_list.append(4)  # Modifies the list in-place\n",
        "print(my_list)\n",
        "#Dictionaries\n",
        "my_dict = {'a': 1, 'b': 2}\n",
        "my_dict['c'] = 3  # Modifies the dictionary in-place\n",
        "print(my_dict)\n",
        "#Immutable\n",
        "# Strings\n",
        "my_string = \"Hello\"\n",
        "new_string = my_string + \" World\"  # Creates a new string\n",
        "print(my_string)  # Output: \"Hello\"\n",
        "print(new_string)\n",
        "# Tuples\n",
        "my_tuple = (1, 2, 3)\n",
        "# my_tuple[0] = 4  # This will raise an error"
      ]
    },
    {
      "cell_type": "code",
      "execution_count": 47,
      "metadata": {
        "colab": {
          "base_uri": "https://localhost:8080/"
        },
        "id": "jjxlptOag_Hc",
        "outputId": "558e477f-4205-44b0-a9f9-768365c2a7e1"
      },
      "outputs": [
        {
          "name": "stdout",
          "output_type": "stream",
          "text": [
            "Addition: 5\n",
            "Subtraction: -1\n",
            "Multiplication: 6\n",
            "Division: 0.6666666666666666\n",
            "Modulus: 2\n",
            "Exponentiation: 8\n",
            "Floor division: 0\n"
          ]
        }
      ],
      "source": [
        "#Python Arithmetic Operators\n",
        "#Addition\n",
        "a=2\n",
        "b=3\n",
        "print(\"Addition: \"+str(a+b))\n",
        "#Subtraction\n",
        "print(\"Subtraction: \"+str(a-b))\n",
        "#Multiplication\n",
        "print(\"Multiplication: \"+str(a*b))\n",
        "#Division\n",
        "print(\"Division: \"+str(a/b))\n",
        "#Modulus\n",
        "print(\"Modulus: \"+str(a%b))\n",
        "#Exponentiation\n",
        "print(\"Exponentiation: \"+str(a**b))\n",
        "#Floor division\n",
        "print(\"Floor division: \"+str(a//b))"
      ]
    },
    {
      "cell_type": "markdown",
      "metadata": {
        "id": "Tt3r-Fqv-0-T"
      },
      "source": [
        "##Input Function"
      ]
    },
    {
      "cell_type": "code",
      "execution_count": 48,
      "metadata": {
        "colab": {
          "base_uri": "https://localhost:8080/"
        },
        "id": "XrJwBk_x-0lC",
        "outputId": "f2c0b46c-4fd6-4645-9048-912715e023ca"
      },
      "outputs": [
        {
          "name": "stdout",
          "output_type": "stream",
          "text": [
            "Sum: 11\n"
          ]
        }
      ],
      "source": [
        "# Write a Program to input 2 numbers & print their sum.\n",
        "x=int(input(\"Enter the number:\"))\n",
        "y=int(input(\"Enter the 2nd number:\"))\n",
        "print(\"Sum: \"+str(x+y))"
      ]
    },
    {
      "cell_type": "code",
      "execution_count": 49,
      "metadata": {
        "colab": {
          "base_uri": "https://localhost:8080/"
        },
        "id": "0dsAY-Ds_qWD",
        "outputId": "6693c289-f025-4edb-d813-c52caef81b33"
      },
      "outputs": [
        {
          "name": "stdout",
          "output_type": "stream",
          "text": [
            "16\n"
          ]
        }
      ],
      "source": [
        "# • WAP to input side of a square & print its area.\n",
        "side=int(input(\"Enter the side of a square: \"))\n",
        "area_Of_Square=side*side\n",
        "print(area_Of_Square)"
      ]
    },
    {
      "cell_type": "code",
      "execution_count": 50,
      "metadata": {
        "colab": {
          "base_uri": "https://localhost:8080/"
        },
        "id": "7hqF-tXTAsWl",
        "outputId": "1b0bbc57-30fb-45fc-a694-8fbe6db23e60"
      },
      "outputs": [
        {
          "name": "stdout",
          "output_type": "stream",
          "text": [
            "Average: 5.5\n"
          ]
        }
      ],
      "source": [
        "# • WAP to input 2 floating point numbers & print their average.\n",
        "x=float(input(\"Enter the number:\"))\n",
        "y=float(input(\"Enter the 2nd number:\"))\n",
        "Average=(x+y)/2\n",
        "print(\"Average: \"+str(Average))"
      ]
    },
    {
      "cell_type": "code",
      "execution_count": 51,
      "metadata": {
        "colab": {
          "base_uri": "https://localhost:8080/"
        },
        "id": "OYKx-BKVD28M",
        "outputId": "44c5f14f-8e09-4a2d-9144-44b800e9092b"
      },
      "outputs": [
        {
          "name": "stdout",
          "output_type": "stream",
          "text": [
            "5\n",
            "Average: 5.0\n"
          ]
        }
      ],
      "source": [
        "# • WAP to input floating point numbers & print their average.\n",
        "# Input a list of numbers as a comma-separated string\n",
        "number = input(\"Enter a list of numbers separated by commas: \").split(',')\n",
        "\n",
        "# Convert the string list to a list of integers\n",
        "number = [int(x) for x in number]\n",
        "\n",
        "# Initialize sum\n",
        "sum = 0\n",
        "\n",
        "# Iterate through the list to calculate the sum\n",
        "for i in range(len(number)):\n",
        "    sum += number[i]\n",
        "\n",
        "# Print the result\n",
        "print(sum)\n",
        "\n",
        "\n",
        "Average=(sum)/len(number)\n",
        "print(\"Average: \"+str(Average))\n"
      ]
    },
    {
      "cell_type": "code",
      "execution_count": 52,
      "metadata": {
        "colab": {
          "base_uri": "https://localhost:8080/"
        },
        "id": "LuTRDg4sNnmV",
        "outputId": "5e21221b-4726-403d-ca83-fe2ad7adc3c0"
      },
      "outputs": [
        {
          "name": "stdout",
          "output_type": "stream",
          "text": [
            "1\n"
          ]
        }
      ],
      "source": [
        "# Input a list of numbers as a comma-separated string\n",
        "number = input(\"Enter a list of numbers separated by commas: \").split(',')\n",
        "\n",
        "# Convert the string list to a list of integers\n",
        "number = [int(x) for x in number]\n",
        "\n",
        "# Initialize sum\n",
        "sum = 0\n",
        "\n",
        "# Iterate through the list to calculate the sum\n",
        "for i in range(len(number)):\n",
        "    sum += number[i]\n",
        "\n",
        "# Print the result\n",
        "print(sum)\n"
      ]
    },
    {
      "cell_type": "code",
      "execution_count": 53,
      "metadata": {
        "colab": {
          "base_uri": "https://localhost:8080/"
        },
        "id": "WjF3x9RVCCBO",
        "outputId": "bdd23994-5320-42f5-d4b0-b22a0ff07e32"
      },
      "outputs": [
        {
          "name": "stdout",
          "output_type": "stream",
          "text": [
            "Input Number is: 65\n"
          ]
        }
      ],
      "source": [
        "# • WAP to input 2 int numbers, a and b.\n",
        "x=(input(\"Enter the number:\"))\n",
        "y=(input(\"Enter the 2nd number:\"))\n",
        "print(\"Input Number is: \"+(x)+(y))"
      ]
    },
    {
      "cell_type": "code",
      "execution_count": null,
      "metadata": {
        "id": "xzz-Ri0nNhA2"
      },
      "outputs": [],
      "source": []
    },
    {
      "cell_type": "code",
      "execution_count": 54,
      "metadata": {
        "colab": {
          "base_uri": "https://localhost:8080/"
        },
        "id": "kreBdQQkDEmD",
        "outputId": "4502e856-7d48-4874-f872-3665821fb5b2"
      },
      "outputs": [
        {
          "name": "stdout",
          "output_type": "stream",
          "text": [
            "True\n"
          ]
        }
      ],
      "source": [
        "# • Print True if a is greater than or equal to b. If not print False.\n",
        "x=(input(\"Enter the number:\"))\n",
        "y=(input(\"Enter the 2nd number:\"))\n",
        "print(x>=y)"
      ]
    },
    {
      "cell_type": "code",
      "execution_count": 55,
      "metadata": {
        "colab": {
          "base_uri": "https://localhost:8080/"
        },
        "id": "lESTxNEug_Ln",
        "outputId": "8f823a84-5d5a-4dfa-bcfb-09d47cb8e5cb"
      },
      "outputs": [
        {
          "name": "stdout",
          "output_type": "stream",
          "text": [
            "Orange Banana Cherry\n"
          ]
        }
      ],
      "source": [
        "x, y, z = \"Orange\", \"Banana\", \"Cherry\"\n",
        "print(x,y,z)"
      ]
    },
    {
      "cell_type": "markdown",
      "metadata": {
        "id": "RpCQiIoo7WHi"
      },
      "source": [
        "##List"
      ]
    },
    {
      "cell_type": "code",
      "execution_count": 56,
      "metadata": {
        "colab": {
          "base_uri": "https://localhost:8080/"
        },
        "id": "cKTyJTsFEXNG",
        "outputId": "02abe1e0-1e86-4bd5-d0c3-14d1e3671f97"
      },
      "outputs": [
        {
          "name": "stdout",
          "output_type": "stream",
          "text": [
            "apple\n",
            "banana\n",
            "cherry\n"
          ]
        }
      ],
      "source": [
        "thislist = [\"apple\", \"banana\", \"cherry\"]\n",
        "for x in thislist:\n",
        "  print(x)"
      ]
    },
    {
      "cell_type": "markdown",
      "metadata": {
        "id": "N98kzstl7g9P"
      },
      "source": [
        "##Dictionaries"
      ]
    },
    {
      "cell_type": "code",
      "execution_count": 57,
      "metadata": {
        "colab": {
          "base_uri": "https://localhost:8080/"
        },
        "id": "L5TM4gcfpeS6",
        "outputId": "26dbba13-bc7b-4f4b-cf61-43b8253a1075"
      },
      "outputs": [
        {
          "name": "stdout",
          "output_type": "stream",
          "text": [
            "Mustang\n"
          ]
        }
      ],
      "source": [
        "car =\t{\n",
        "  \"brand\": \"Ford\",\n",
        "  \"model\": \"Mustang\",\n",
        "  \"year\": 1964\n",
        "}\n",
        "print(car.get(\"model\"))"
      ]
    },
    {
      "cell_type": "code",
      "execution_count": 58,
      "metadata": {
        "colab": {
          "base_uri": "https://localhost:8080/"
        },
        "id": "8Y3fXpdd8L9R",
        "outputId": "070e5811-72c4-477d-fd09-61274a7a6d7f"
      },
      "outputs": [
        {
          "name": "stdout",
          "output_type": "stream",
          "text": [
            "dict_keys(['brand', 'model', 'year'])\n"
          ]
        }
      ],
      "source": [
        "thisdict =\t{\"brand\": \"Ford\",\"model\": \"Mustang\",\"year\": 1964}\n",
        "x = thisdict.get(\"model\")\n",
        "y = thisdict.keys()\n",
        "print(y)"
      ]
    },
    {
      "cell_type": "markdown",
      "metadata": {
        "id": "K_I27xKl17Fi"
      },
      "source": [
        "##Array"
      ]
    },
    {
      "cell_type": "code",
      "execution_count": 59,
      "metadata": {
        "colab": {
          "base_uri": "https://localhost:8080/"
        },
        "id": "ambRwfyY1-4k",
        "outputId": "24273471-b3e0-4431-9d5f-ce64b588fc69"
      },
      "outputs": [
        {
          "name": "stdout",
          "output_type": "stream",
          "text": [
            "['Ford', 'Volvo', 'BMW']\n",
            "3\n",
            "Ford\n",
            "Volvo\n",
            "BMW\n"
          ]
        }
      ],
      "source": [
        "cars = [\"Ford\", \"Volvo\", \"BMW\"]\n",
        "print(cars)\n",
        "#Number of elements\n",
        "x = len(cars)\n",
        "print(x)\n",
        "#Print each item\n",
        "for x in cars:\n",
        "  print(x)"
      ]
    },
    {
      "cell_type": "code",
      "execution_count": 60,
      "metadata": {
        "colab": {
          "base_uri": "https://localhost:8080/"
        },
        "id": "OLGDV72z3CZj",
        "outputId": "d8b2e1ac-2d1e-49a3-9cdb-551dc6759b99"
      },
      "outputs": [
        {
          "name": "stdout",
          "output_type": "stream",
          "text": [
            "    *\n",
            "   ***\n",
            "  *****\n",
            " *******\n",
            "*********\n"
          ]
        }
      ],
      "source": [
        "rows=5\n",
        "for i in range(1,rows+1):\n",
        "  print(' '*(rows-i)+'*'*(2*i-1))"
      ]
    },
    {
      "cell_type": "code",
      "execution_count": 61,
      "metadata": {
        "colab": {
          "base_uri": "https://localhost:8080/"
        },
        "id": "If4cGomjdWLE",
        "outputId": "33dc9058-b495-4247-c185-b0fbcae79a78"
      },
      "outputs": [
        {
          "name": "stdout",
          "output_type": "stream",
          "text": [
            "1\n",
            "2\n",
            "3\n",
            "4\n",
            "5\n"
          ]
        }
      ],
      "source": [
        "i = 1\n",
        "while i < 6:\n",
        "  print(i)\n",
        "  i += 1"
      ]
    },
    {
      "cell_type": "code",
      "execution_count": null,
      "metadata": {
        "id": "2J7yJm0u6zr_"
      },
      "outputs": [],
      "source": []
    },
    {
      "cell_type": "code",
      "execution_count": 62,
      "metadata": {
        "colab": {
          "base_uri": "https://localhost:8080/"
        },
        "id": "EB5mVYH0gOmo",
        "outputId": "fbeb66f9-b65e-482a-f771-2d0d5e430b3c"
      },
      "outputs": [
        {
          "name": "stdout",
          "output_type": "stream",
          "text": [
            "name : John\n",
            "age : 30\n",
            "city : New York\n",
            "30\n"
          ]
        }
      ],
      "source": [
        "import json\n",
        "\n",
        "# some JSON:\n",
        "x =  '{ \"name\":\"John\", \"age\":30, \"city\":\"New York\"}'\n",
        "\n",
        "# parse x:\n",
        "y = json.loads(x)\n",
        "for key,value in y.items():\n",
        "  print(key,\":\",value)\n",
        "# the result is a Python dictionary:\n",
        "print(y[\"age\"])"
      ]
    },
    {
      "cell_type": "code",
      "execution_count": 63,
      "metadata": {
        "colab": {
          "base_uri": "https://localhost:8080/"
        },
        "id": "dP5YnrWyeuYT",
        "outputId": "a60f87fe-8141-41ec-e7d6-f91303e47baf"
      },
      "outputs": [
        {
          "name": "stdout",
          "output_type": "stream",
          "text": [
            "[87, 99, 33, 22, 56]\n",
            "['rohit', 99, 33, 22, 56]\n",
            "None\n",
            "['rohit', 99, 34, 33, 22, 56, 4]\n"
          ]
        }
      ],
      "source": [
        "'''String is a datatype store a sequence of character\n",
        "length of string: len(str)\n",
        "\n",
        "string Indexing: it indecates the renge of the slice using strting index and ending index\n",
        "(imp)\n",
        "\n",
        "\n",
        "'''\n",
        "# str_1=\"Rohan\"\n",
        "# last_letter=str_1[1:]\n",
        "# print(last_letter)\n",
        "# next_name=\"s\"+last_letter\n",
        "# # next_name = \"s\" not allow\n",
        "# print(next_name)\n",
        "\n",
        "'''\n",
        "Input():  This statement is use to take values from the user.\n",
        "i.e : x=input(\"Enter your name\")\n",
        "      print(x)\n",
        "\n",
        "split(): Split the string into sub string if it finds the instances of the seprator.\n",
        "'''\n",
        "# a=\"Hello World\"\n",
        "# print(a.split(\",\"))\n",
        "'''\n",
        "LIst : It used to store multiple items in a single variable\n",
        "      list are specifide in[]\n",
        "      list item are ordered , changeable and allow duplicate\n",
        "\n",
        "'''\n",
        "marks = [87,99,33,22,56]\n",
        "print(marks)\n",
        "marks[0]= \"rohit\"\n",
        "print(marks)\n",
        "print(marks.append(4))\n",
        "# marks.sort(reverse=True)\n",
        "marks.insert(2,34)\n",
        "print(marks)\n"
      ]
    },
    {
      "cell_type": "code",
      "execution_count": 64,
      "metadata": {
        "colab": {
          "base_uri": "https://localhost:8080/",
          "height": 53
        },
        "id": "FifheelxkgAV",
        "outputId": "0f18752e-d798-4c8f-98e1-6a5e6d31dc6f"
      },
      "outputs": [
        {
          "data": {
            "text/plain": [
              "'\\nLIst : It used to store multiple items in a single variable\\n      list are specifide in[]\\n      list item are ordered , changeable and allow duplicate value\\n'"
            ]
          },
          "execution_count": 64,
          "metadata": {},
          "output_type": "execute_result"
        }
      ],
      "source": [
        "'''\n",
        "LIst : It used to store multiple items in a single variable\n",
        "      list are specifide in[]\n",
        "      list item are ordered , changeable and allow duplicate value\n",
        "'''"
      ]
    },
    {
      "cell_type": "code",
      "execution_count": 65,
      "metadata": {
        "colab": {
          "base_uri": "https://localhost:8080/"
        },
        "id": "WfIkElXLhbWl",
        "outputId": "e03c3509-a6d9-437a-fcfd-7d2268a454ce"
      },
      "outputs": [
        {
          "name": "stdout",
          "output_type": "stream",
          "text": [
            "['i', 2, 3, 4]\n",
            "['i', 2, 3, 4]\n"
          ]
        }
      ],
      "source": [
        "a=[1,2,3,4]\n",
        "b=[5,6]\n",
        "a[0]=\"i\"\n",
        "print(a)\n",
        "# a.ap\n",
        "print(a)"
      ]
    },
    {
      "cell_type": "code",
      "execution_count": 66,
      "metadata": {
        "id": "NX5cjSeFotTv"
      },
      "outputs": [
        {
          "name": "stdout",
          "output_type": "stream",
          "text": [
            "After append(60): [10, 20, 30, 40, 50, 60]\n",
            "After clear(): []\n",
            "Copy of my_list: [10, 20, 30, 40, 50, 60]\n",
            "Count of 20 in my_list: 1\n",
            "After extend([70, 80]): [10, 20, 30, 40, 50, 60, 70, 80]\n",
            "Index of 30 in my_list: 2\n",
            "After insert(2, 25): [10, 20, 25, 30, 40, 50, 60, 70, 80]\n",
            "After pop(2): [10, 20, 30, 40, 50, 60, 70, 80] Popped element: 25\n",
            "After remove(40): [10, 20, 30, 50, 60, 70, 80]\n",
            "After reverse(): [80, 70, 60, 50, 30, 20, 10]\n"
          ]
        }
      ],
      "source": [
        "# Sample list\n",
        "my_list = [10, 20, 30, 40, 50]\n",
        "\n",
        "# 1. append(): Adds an element at the end of the list\n",
        "my_list.append(60)\n",
        "print(\"After append(60):\", my_list)\n",
        "\n",
        "# 2. clear(): Removes all the elements from the list\n",
        "temp_list = my_list.copy()  # Creating a copy for the demonstration\n",
        "temp_list.clear()\n",
        "print(\"After clear():\", temp_list)\n",
        "\n",
        "# 3. copy(): Returns a copy of the list\n",
        "copied_list = my_list.copy()\n",
        "print(\"Copy of my_list:\", copied_list)\n",
        "\n",
        "# 4. count(): Returns the number of elements with the specified value\n",
        "count = my_list.count(20)\n",
        "print(\"Count of 20 in my_list:\", count)\n",
        "\n",
        "# 5. extend(): Add elements of another list (or iterable) to the end of the current list\n",
        "my_list.extend([70, 80])\n",
        "print(\"After extend([70, 80]):\", my_list)\n",
        "\n",
        "# 6. index(): Returns the index of the first element with the specified value\n",
        "index = my_list.index(30)\n",
        "print(\"Index of 30 in my_list:\", index)\n",
        "\n",
        "# 7. insert(): Adds an element at the specified position\n",
        "my_list.insert(2, 25)\n",
        "print(\"After insert(2, 25):\", my_list)\n",
        "\n",
        "# 8. pop(): Removes the element at the specified position (default: last)\n",
        "popped_element = my_list.pop(2)\n",
        "print(\"After pop(2):\", my_list, \"Popped element:\", popped_element)\n",
        "\n",
        "# 9. remove(): Removes the item with the specified value\n",
        "my_list.remove(40)\n",
        "print(\"After remove(40):\", my_list)\n",
        "\n",
        "# 10. reverse(): Reverses the order of the list\n",
        "my_list.reverse()\n",
        "print(\"After reverse():\", my_list)\n",
        "\n",
        "# 11. sort(): Sorts the list\n",
        "my_list.sort()\n",
        "# print(\"After sort():\", my_list)\n"
      ]
    },
    {
      "cell_type": "code",
      "execution_count": 67,
      "metadata": {
        "id": "5SoX8uGzowLo"
      },
      "outputs": [
        {
          "name": "stdout",
          "output_type": "stream",
          "text": [
            "margorP yM\n",
            "The sum of two numbers: 6\n"
          ]
        }
      ],
      "source": [
        "t=\"My Program\"\n",
        "print(t[::-1])\n",
        "print(f\"The sum of two numbers: {2+4}\")  # f is for formating"
      ]
    },
    {
      "cell_type": "code",
      "execution_count": 68,
      "metadata": {
        "colab": {
          "base_uri": "https://localhost:8080/"
        },
        "id": "FkSC7ZhNqeD7",
        "outputId": "c47feec7-30f9-42b8-8550-ee693ce2e0c6"
      },
      "outputs": [
        {
          "name": "stdout",
          "output_type": "stream",
          "text": [
            "{'Name': 'Shiwam', 'Roll No': 58, 'class': 'Ml', 'Marks': [12, 13, 14, 15]}\n",
            "58\n",
            "Shiwam\n",
            "Shiwam\n",
            "dict_keys(['Name', 'Roll No', 'class', 'Marks'])\n",
            "dict_values(['Shiwam', 58, 'Ml', [12, 13, 14, 15]])\n"
          ]
        }
      ],
      "source": [
        "'''\n",
        "Dictionary unorder form of data in which value are store\n",
        "case sensetive   , not allow duplicate value, allow any type of value,\n",
        "'''\n",
        "dict= {'Name':'Shiwam','Roll No': 58, 'class':\"Ml\" , 'Marks':[12,13,14,15]}   # Creating a dict  , List And Tupl Can be used in one key pf dict\n",
        "print(dict)\n",
        "print(dict['Roll No'])  # Accessing\n",
        "#Constructor\n",
        "# dict_1=dict({'Name':'Shiwam','Roll No': 58, 'class':\"Ml\" , 'Marks':[12,13,14,15]})\n",
        "# print(dict_1)\n",
        "#Access throuh key\n",
        "print(dict[\"Name\"])\n",
        "#Access using get method\n",
        "print(dict.get(\"Name\"))\n",
        "\n",
        "print(dict.keys())\n",
        "print(dict.values())"
      ]
    },
    {
      "cell_type": "code",
      "execution_count": 69,
      "metadata": {
        "colab": {
          "base_uri": "https://localhost:8080/"
        },
        "id": "1ApPOniptGgZ",
        "outputId": "683be9a0-ed84-49b8-8c28-84d012166bba"
      },
      "outputs": [
        {
          "name": "stdout",
          "output_type": "stream",
          "text": [
            "dict_keys(['Name', 'Roll No', 'class', 'Marks'])\n",
            "dict_values(['Shiwam', 58, 'Ml', 12])\n"
          ]
        }
      ],
      "source": [
        "# from pickle import DICT\n",
        "'''\n",
        "Store the following wordmeaning in python dict\n",
        "d= {\"table\": \"A pice of Furniture\", \"list of facts\" ,  \"cat\":\"a small animal\"}\n",
        "'''\n",
        "# d= {\"table\": \"A pice of Furniture\"\"list of facts\" ,  \"cat\":\"a small animal\"}\n",
        "# print(d)\n",
        "\n",
        "'''\n",
        "Write a program to enter marks of three subject from the user and store them in a dict\n",
        "\n",
        "'''\n",
        "# a=input(\"Enter the 1st subject: \")\n",
        "# b=input(\"Enter the 2nd subject: \")\n",
        "# c=input(\"Enter the 3rd subject: \")\n",
        "# dict={\"science\":a, \"\"}\n",
        "# marks = input(\"Enter the marks of three Subject\").split(\",\")\n",
        "# dict={\"math, engls,science\":marks}\n",
        "# print(dict)\n",
        "\n",
        "# create a dict and get all values and key seprately\n",
        "dict= {'Name':'Shiwam','Roll No': 58, 'class':\"Ml\" , 'Marks':12}\n",
        "print(dict.keys())\n",
        "print(dict.values())\n"
      ]
    },
    {
      "cell_type": "code",
      "execution_count": 70,
      "metadata": {
        "colab": {
          "base_uri": "https://localhost:8080/"
        },
        "id": "9kpCl-R1zsYJ",
        "outputId": "63d1d071-a4f0-4b5e-df00-1018a7e2c566"
      },
      "outputs": [
        {
          "name": "stdout",
          "output_type": "stream",
          "text": [
            "{'a': 1, 'b': 2}\n",
            "{1: 'a', 2: 'b'}\n"
          ]
        }
      ],
      "source": [
        "# take two dict create by constructor method merge both dict\n",
        "d={\"a\":1,\"b\":2}\n",
        "print(d)\n",
        "d1={1:\"a\",2:\"b\"}\n",
        "print(d1)\n",
        "# d3=d.update(d1)  not allow"
      ]
    },
    {
      "cell_type": "code",
      "execution_count": 71,
      "metadata": {
        "colab": {
          "base_uri": "https://localhost:8080/"
        },
        "id": "A02EkYs114AW",
        "outputId": "9b12f83d-3503-411a-e526-a858237b8c2f"
      },
      "outputs": [
        {
          "name": "stdout",
          "output_type": "stream",
          "text": [
            "{'Name': 'Shiwam', 'Age': 20}\n",
            "('Age', 20)\n",
            "{}\n",
            "{}\n"
          ]
        }
      ],
      "source": [
        "# remove an item by key\n",
        "# remove a item  by key return value\n",
        "# remove and return last key value pair\n",
        "# empty all dict\n",
        "person={\"Name\":\"Shiwam\",\"Age\":20}\n",
        "print(person)\n",
        "\n",
        "person.pop(\"Name\")\n",
        "a=person.popitem()\n",
        "print(a)\n",
        "print(person)\n",
        "person.clear()\n",
        "print(person)"
      ]
    },
    {
      "cell_type": "code",
      "execution_count": 72,
      "metadata": {
        "colab": {
          "base_uri": "https://localhost:8080/"
        },
        "id": "sl2blb8h3sBH",
        "outputId": "497a9e24-6f8c-4476-d7d3-d31e9945020a"
      },
      "outputs": [
        {
          "name": "stdout",
          "output_type": "stream",
          "text": [
            "{'science': 'Java', 'maths': 'Python', 'english': 'C'}\n"
          ]
        }
      ],
      "source": [
        "'''\n",
        "wap take a name of marks of three student as input and store in the dict\n",
        "wap to check if a given key exist in a dict if the key exist print its value othewise print keys not found\n",
        "wap that take a sentence from the user and count thr frquence of each word usin a dict\n",
        "create a dict of empolyes with their selary take an empoly name as input and update their salary print dict\n",
        "wap to merge two dict\n",
        "\n",
        "'''\n",
        "# wap take a name of marks of three student as input and store in the dict\n",
        "a=input(\"Enter the 1st subject: \")\n",
        "b=input(\"Enter the 2nd subject: \")\n",
        "c=input(\"Enter the 3rd subject: \")\n",
        "dict={\"science\":a, \"maths\":b, \"english\":c}\n",
        "print(dict)"
      ]
    },
    {
      "cell_type": "code",
      "execution_count": 73,
      "metadata": {
        "colab": {
          "base_uri": "https://localhost:8080/"
        },
        "id": "CSqKjSmR7Zvy",
        "outputId": "340830d9-e816-49c8-9913-8461e2482a92"
      },
      "outputs": [
        {
          "name": "stdout",
          "output_type": "stream",
          "text": [
            "The key '1' does not exist in the dictionary.\n"
          ]
        }
      ],
      "source": [
        "# wap to check if a given key exist in a dict if the key exist print its value othewise print keys not found\n",
        "dict = {'a': 1, 'b': 2, 'c': 3, 4:\"d\"}\n",
        "key =input(\"Enter the key : \")\n",
        "if key in dict:\n",
        "    print(f\"The value of key '{key}' is: {dict[key]}\")\n",
        "elif key.isdigit() and int(key) in dict:\n",
        "    print(f\"The value of key '{key}' is: {dict[int(key)]}\")\n",
        "else:\n",
        "    print(f\"The key '{key}' does not exist in the dictionary.\")"
      ]
    },
    {
      "cell_type": "code",
      "execution_count": 74,
      "metadata": {
        "colab": {
          "base_uri": "https://localhost:8080/"
        },
        "id": "LSBPUCUY7tOR",
        "outputId": "59703b0b-1489-4210-c36d-9fa9508a5ec7"
      },
      "outputs": [
        {
          "name": "stdout",
          "output_type": "stream",
          "text": [
            "Word frequency: {'Hello': 1, 'world': 1}\n"
          ]
        }
      ],
      "source": [
        "# wap that take a sentence from the user and count thr frquence of each word usin a dict\n",
        "sentence = input(\"Enter a sentence: \")\n",
        "word_count = {}\n",
        "words = sentence.split()\n",
        "for word in words:\n",
        "    if word in word_count:\n",
        "        word_count[word] += 1\n",
        "    else:\n",
        "        word_count[word] = 1\n",
        "print(\"Word frequency:\", word_count)"
      ]
    },
    {
      "cell_type": "code",
      "execution_count": 75,
      "metadata": {
        "colab": {
          "base_uri": "https://localhost:8080/"
        },
        "id": "0WScEOGGPKTz",
        "outputId": "b66cd856-2c88-491f-dbfe-867aa10b5421"
      },
      "outputs": [
        {
          "name": "stdout",
          "output_type": "stream",
          "text": [
            "{'a': 1513633, 'b': 200}\n"
          ]
        }
      ],
      "source": [
        "# create a dict of empolyes with their selary take an empoly name as input and update their salary print dict\n",
        "emp_sal={'a':100,'b':200}\n",
        "key=input(\"Enter the key: \")\n",
        "emp_sal.update({key:int(input(\"input the new sal :\"))})\n",
        "print(emp_sal)"
      ]
    },
    {
      "cell_type": "code",
      "execution_count": 76,
      "metadata": {
        "colab": {
          "base_uri": "https://localhost:8080/"
        },
        "id": "mmDmmlhkZ-3r",
        "outputId": "7788dbb0-9a24-4e54-b121-b87307907f00"
      },
      "outputs": [
        {
          "name": "stdout",
          "output_type": "stream",
          "text": [
            "{'a': 1, 'b': 2, 'c': 3, 'd': 4}\n",
            "{'a': 1, 'b': 2, 'c': 3, 'd': 4}\n"
          ]
        }
      ],
      "source": [
        "# wap to merge two dict\n",
        "dict1 = {'a': 1, 'b': 2}\n",
        "dict2 = {'c': 3, 'd': 4}\n",
        "meeged_dict={**dict1,**dict2}\n",
        "print(meeged_dict)\n",
        "dict1.update(dict2)\n",
        "print(dict1)"
      ]
    },
    {
      "cell_type": "code",
      "execution_count": 77,
      "metadata": {
        "colab": {
          "base_uri": "https://localhost:8080/"
        },
        "id": "yhGSHVZuaE4B",
        "outputId": "8a496521-57ea-421b-e4e9-3dde6b57214f"
      },
      "outputs": [
        {
          "name": "stdout",
          "output_type": "stream",
          "text": [
            "{'child1': {'name': 'Emil', 'year': 2004}, 'child2': {'name': 'Tobias', 'year': 2007}, 'child3': {'name': 'Linus', 'year': 2011}}\n"
          ]
        }
      ],
      "source": [
        "myfamily = {\n",
        "  \"child1\" : {\n",
        "    \"name\" : \"Emil\",\n",
        "    \"year\" : 2004\n",
        "  },\n",
        "  \"child2\" : {\n",
        "    \"name\" : \"Tobias\",\n",
        "    \"year\" : 2007\n",
        "  },\n",
        "  \"child3\" : {\n",
        "    \"name\" : \"Linus\",\n",
        "    \"year\" : 2011\n",
        "  }\n",
        "}\n",
        "print(  myfamily)"
      ]
    },
    {
      "cell_type": "code",
      "execution_count": 78,
      "metadata": {
        "colab": {
          "base_uri": "https://localhost:8080/"
        },
        "id": "UhxYMSo409Ar",
        "outputId": "8b8171dd-9c2e-4f51-ab19-b2d584af4867"
      },
      "outputs": [
        {
          "name": "stdout",
          "output_type": "stream",
          "text": [
            "{1, 2, 'shiwam', 'name'}\n",
            "{'class', (1, 2, 3), 'std'}\n",
            "1\n",
            "2\n",
            "shiwam\n",
            "name\n"
          ]
        }
      ],
      "source": [
        "'''\n",
        "SETS : number in sequence simple a values no keys\n",
        "unorder, Imutable , no duplicate value, allow any type of value\n",
        "'''\n",
        "a={1,2,\"name\"} # mutable two set can be merge but not change index value\n",
        "b={(1,2,3),\"std\"}\n",
        "# a!={[1,2],{1:2}} #not store dict, and list\n",
        "# set{}\n",
        "s=set()\n",
        "a.add(\"shiwam\")\n",
        "a.add(\"name\")  # skip duplicate value\n",
        "b.add(\"class\")\n",
        "print(a)\n",
        "print(b)\n",
        "for x in a: # oprator to chech the value\n",
        " print(x)"
      ]
    },
    {
      "cell_type": "code",
      "execution_count": 79,
      "metadata": {
        "colab": {
          "base_uri": "https://localhost:8080/"
        },
        "id": "Hi040DvK5ZWh",
        "outputId": "af5fd508-3378-4c0f-b9eb-908c7e8e12f5"
      },
      "outputs": [
        {
          "name": "stdout",
          "output_type": "stream",
          "text": [
            "{('float', 9.0), ('int', 9)}\n",
            "('float', 9.0)\n",
            "('int', 9)\n",
            "{('float', 9.0), ('int', 9)}\n"
          ]
        }
      ],
      "source": [
        "a={('int', 9),('float',9.0)} # to see uniqe value put type\n",
        "print(a)\n",
        "for x in a:\n",
        "  print(x)\n",
        "len(a)\n",
        "a.union\n",
        "print(a)\n"
      ]
    },
    {
      "cell_type": "code",
      "execution_count": 80,
      "metadata": {
        "colab": {
          "base_uri": "https://localhost:8080/"
        },
        "id": "6MGhFjUo7tuK",
        "outputId": "fdb890c7-464f-4886-aaff-df681303a126"
      },
      "outputs": [
        {
          "name": "stdout",
          "output_type": "stream",
          "text": [
            "{1, 6, 7}\n"
          ]
        }
      ],
      "source": [
        "a={1,2,3,4,4,5,5,7}\n",
        "b={2,2,3,3,4,4,5,5,6} # set union\n",
        "d=(1,2,3)\n",
        "# x=a.union(d) # tupl also can\n",
        "# y=a.intersection(b)\n",
        "# z=a.difference(b)\n",
        "# z=a-b # difference\n",
        "# z=a.symmetric_difference(b) # symmetric difference\n",
        "z=a^b  # symmetric difference\n",
        "print(z)"
      ]
    },
    {
      "cell_type": "code",
      "execution_count": 81,
      "metadata": {
        "colab": {
          "base_uri": "https://localhost:8080/"
        },
        "id": "KUWm6rPG-ITD",
        "outputId": "688884f1-606a-497c-d234-1c3a8cf679ca"
      },
      "outputs": [
        {
          "name": "stdout",
          "output_type": "stream",
          "text": [
            "it is present\n",
            "{'yellow', 'orange', 'green', 'blue', 'white', 'black'}\n"
          ]
        }
      ],
      "source": [
        "colour={\"red\",\"green\",\"blue\",\"yellow\",\"white\"}\n",
        "colour.add(\"orange\")\n",
        "colour.remove(\"red\")\n",
        "colour.add(\"black\")\n",
        "if \"black\" in colour:\n",
        "  print(\"it is present\")\n",
        "else:\n",
        "  print(\"it is not present\")\n",
        "print(colour)\n"
      ]
    },
    {
      "cell_type": "code",
      "execution_count": 82,
      "metadata": {
        "colab": {
          "base_uri": "https://localhost:8080/"
        },
        "id": "ZuQYbbpy_2BP",
        "outputId": "9d83fe32-3a29-4a1a-a5a9-777273fedbb3"
      },
      "outputs": [
        {
          "name": "stdout",
          "output_type": "stream",
          "text": [
            "{'green', 'blue', 'white', 'black', 'yellow', 'red'}\n"
          ]
        }
      ],
      "source": [
        "colour={\"red\",\"green\",\"blue\",\"yellow\",\"white\"}\n",
        "colour2={\"red\",\"blue\",\"white\",\"black\"}\n",
        "# colour.union(colour2)\n",
        "# colour.difference(colour2)\n",
        "# colour.difference_update(colour2) #remove another values present in set\n",
        "# print(colour)\n",
        "# d=colour.pop()\n",
        "# print(colour)\n",
        "# print(d)\n",
        "# c=colour.isdisjoint(colour2)\n",
        "# print(c)\n",
        "# a=colour.issubset(colour2)\n",
        "# print(a)\n",
        "# b=colour2.issubset(colour)\n",
        "# print(b)\n",
        "colour.update(colour2) #update use for always in numerical value , direct through the data variable not store in variable\n",
        "print(colour)"
      ]
    },
    {
      "cell_type": "code",
      "execution_count": 83,
      "metadata": {
        "colab": {
          "base_uri": "https://localhost:8080/"
        },
        "id": "AKGsi8t7DafE",
        "outputId": "0ffbcc84-e4ed-413a-9c09-e46ce713fe6a"
      },
      "outputs": [
        {
          "name": "stdout",
          "output_type": "stream",
          "text": [
            "True\n"
          ]
        }
      ],
      "source": [
        "''' Booleans ,True : false '''\n",
        "x=234\n",
        "y=133\n",
        "z=x>y\n",
        "print(z)\n"
      ]
    },
    {
      "cell_type": "code",
      "execution_count": 84,
      "metadata": {
        "colab": {
          "base_uri": "https://localhost:8080/"
        },
        "id": "zvKrOoVJ-c2I",
        "outputId": "35f15a68-7557-45a5-c5c7-964c132fd6f6"
      },
      "outputs": [
        {
          "name": "stdout",
          "output_type": "stream",
          "text": [
            "Good\n"
          ]
        }
      ],
      "source": [
        "'''\n",
        "if else statement\n",
        "ML start by this if else and looping,\n",
        "'''\n",
        "a=input(\"Enter the Number \")\n",
        "b=input(\"Enter the Number\")\n",
        "if a>b:\n",
        "  print(\"Good\")\n",
        "elif a<b:\n",
        "  input(\"Excelent : \")\n",
        "else:\n",
        "  print(\"Bad\")"
      ]
    },
    {
      "cell_type": "code",
      "execution_count": 85,
      "metadata": {
        "colab": {
          "base_uri": "https://localhost:8080/"
        },
        "id": "fe1tjlWpA9ZS",
        "outputId": "c392119e-84fb-4de7-980b-a9d22059d194"
      },
      "outputs": [
        {
          "name": "stdout",
          "output_type": "stream",
          "text": [
            "Give MeaningFull Input\n"
          ]
        }
      ],
      "source": [
        "light=input(\"light : \")\n",
        "if(light==\"Red\"):\n",
        "  print(\"Stop\")\n",
        "elif(light==\"Yellow\"):\n",
        "  print(\"Ready\")\n",
        "elif(light==\"Green\"):\n",
        "  print(\"Go\")\n",
        "else:\n",
        "  print(\"Give MeaningFull Input\")"
      ]
    },
    {
      "cell_type": "code",
      "execution_count": 86,
      "metadata": {
        "colab": {
          "base_uri": "https://localhost:8080/"
        },
        "id": "Oa-WPua5DDro",
        "outputId": "daa16305-6465-4084-cad2-29b567615bf6"
      },
      "outputs": [
        {
          "name": "stdout",
          "output_type": "stream",
          "text": [
            "The Number is odd\n"
          ]
        }
      ],
      "source": [
        "# Check the number is even or odd\n",
        "user=int(input(\"Enter the Number\"))\n",
        "if(user/2==0):\n",
        "  print(\"The Number is Even\")\n",
        "else:\n",
        "  print(\"The Number is odd\")"
      ]
    },
    {
      "cell_type": "code",
      "execution_count": 88,
      "metadata": {
        "colab": {
          "base_uri": "https://localhost:8080/"
        },
        "id": "fPL-9oSpD2ZX",
        "outputId": "f0742d4a-ccd9-4a40-f8e3-ac0317f780f1"
      },
      "outputs": [
        {
          "ename": "SyntaxError",
          "evalue": "expected ':' (436955829.py, line 5)",
          "output_type": "error",
          "traceback": [
            "\u001b[1;36m  Cell \u001b[1;32mIn[88], line 5\u001b[1;36m\u001b[0m\n\u001b[1;33m    if a>b and a>c\u001b[0m\n\u001b[1;37m                  ^\u001b[0m\n\u001b[1;31mSyntaxError\u001b[0m\u001b[1;31m:\u001b[0m expected ':'\n"
          ]
        }
      ],
      "source": [
        "#Find the gratest of three number\n",
        "a=float(input(\"Enter the Number\"))\n",
        "b=float(input(\"Enter the Number\"))\n",
        "c=float(input(\"Enter the Number\"))\n",
        "if a>b and a>c\n",
        "  print(f\"The NUmber is :\" (a))\n",
        "elif b>c\n",
        "  print(f\"Gratest\")\n",
        "else:\n",
        "  print(f\"Gratest\")"
      ]
    },
    {
      "cell_type": "code",
      "execution_count": null,
      "metadata": {
        "colab": {
          "base_uri": "https://localhost:8080/"
        },
        "id": "s-rAb77pFZfe",
        "outputId": "4c2ff8dd-2aaa-4892-ecb5-dfb15d7c8a55"
      },
      "outputs": [
        {
          "name": "stdout",
          "output_type": "stream",
          "text": [
            "Enter the number54\n",
            "Nuber Is not Divisible By 7\n"
          ]
        }
      ],
      "source": [
        "#check if the number is multple by 7\n",
        "a=int(input(\"Enter the number\"))\n",
        "if a/7 ==0:\n",
        "  print(f\"Nuber is divisible by 7\")\n",
        "else:\n",
        "  print(f\"Nuber Is not Divisible By 7\")"
      ]
    },
    {
      "cell_type": "code",
      "execution_count": null,
      "metadata": {
        "colab": {
          "base_uri": "https://localhost:8080/"
        },
        "id": "CtMjk4NIGZ3C",
        "outputId": "ef570f75-7d29-43f8-c5c5-da5167630341"
      },
      "outputs": [
        {
          "name": "stdout",
          "output_type": "stream",
          "text": [
            "Enter the number44\n",
            "The Number Is Positive\n"
          ]
        }
      ],
      "source": [
        "# if the number + and - or\n",
        "x=int(input(f\"Enter the number\"))\n",
        "if x >=0:\n",
        "  if x >0:\n",
        "    print(\"The Number Is Positive\")\n",
        "  else:\n",
        "    print(\"The Number Is Zero\")\n",
        "else:\n",
        "  print(\"The Number Is Negative\")"
      ]
    },
    {
      "cell_type": "code",
      "execution_count": null,
      "metadata": {
        "colab": {
          "base_uri": "https://localhost:8080/"
        },
        "id": "cnwNR2LKIPOs",
        "outputId": "313fe1b7-bb0a-4b63-fb20-858a39beed09"
      },
      "outputs": [
        {
          "name": "stdout",
          "output_type": "stream",
          "text": [
            "Enter year to be checked:2100\n",
            "The year isn't a leap year!\n"
          ]
        }
      ],
      "source": [
        "# year=int(input(\"Enter the Year\"))\n",
        "# if (year%4==0):\n",
        "#   if (year%100!=0):\n",
        "#     if(year%400==0):\n",
        "#       print(f\"It is a Leap Year\")\n",
        "#     else:\n",
        "#       (\"It is not a Leap Year\")\n",
        "\n",
        "year=int(input(\"Enter year to be checked:\"))\n",
        "if(year%4==0 and year%100!=0 or year%400==0):\n",
        "    print(\"The year is a leap year!\")\n",
        "else:\n",
        "    print(\"The year isn't a leap year!\")\n"
      ]
    },
    {
      "cell_type": "code",
      "execution_count": null,
      "metadata": {
        "colab": {
          "base_uri": "https://localhost:8080/"
        },
        "id": "X_96WiYzZAxs",
        "outputId": "934cd348-502d-4431-eac6-6d73d1ebe8f7"
      },
      "outputs": [
        {
          "name": "stdout",
          "output_type": "stream",
          "text": [
            "0\n",
            "1\n",
            "2\n",
            "3\n",
            "4\n",
            "5\n",
            "6\n",
            "7\n",
            "8\n"
          ]
        }
      ],
      "source": [
        "# For loop\n",
        "x=[1,2,3,4,5]\n",
        "# for i  in x:\n",
        "#   print(i)\n",
        "for i in range(0,10):\n",
        "  if(i == 8):\n",
        "    print(i)\n",
        "    break;\n",
        "  print(i)\n",
        "\n",
        "\n"
      ]
    },
    {
      "cell_type": "code",
      "execution_count": null,
      "metadata": {
        "colab": {
          "base_uri": "https://localhost:8080/"
        },
        "id": "gBQF6Vn_Lmob",
        "outputId": "14f48d2d-3861-408a-dee8-ca2364834516"
      },
      "outputs": [
        {
          "name": "stdout",
          "output_type": "stream",
          "text": [
            "500\n"
          ]
        }
      ],
      "source": [
        "values=[100,200,300,400,500]\n",
        "for x in values :\n",
        "  if (x==\"200\"):\n",
        "    break\n",
        "print(x)\n"
      ]
    },
    {
      "cell_type": "code",
      "execution_count": null,
      "metadata": {
        "colab": {
          "base_uri": "https://localhost:8080/"
        },
        "id": "IfW_vflJgtOB",
        "outputId": "bad367ae-36a6-497e-df20-ae0edd59d564"
      },
      "outputs": [
        {
          "name": "stdout",
          "output_type": "stream",
          "text": [
            "1\n",
            "2\n",
            "3\n",
            "4\n",
            "5\n",
            "6\n",
            "7\n",
            "8\n",
            "9\n",
            "10\n"
          ]
        }
      ],
      "source": [
        "#wap print 1 tp 10\n",
        "values=[1,2,3,4,5,6,7,8,9,10]\n",
        "for x in values:\n",
        "  print(x)"
      ]
    },
    {
      "cell_type": "code",
      "execution_count": null,
      "metadata": {
        "colab": {
          "base_uri": "https://localhost:8080/"
        },
        "id": "813--zCNhHlb",
        "outputId": "4b58eb34-afca-4d7e-bde2-777d856f5eb6"
      },
      "outputs": [
        {
          "name": "stdout",
          "output_type": "stream",
          "text": [
            "0\n",
            "1\n",
            "2\n",
            "3\n",
            "4\n"
          ]
        }
      ],
      "source": [
        "#Stop printing when the number reaches 5\n",
        "\n",
        "for i in range(0,10):\n",
        "   if(i==5):\n",
        "    break\n",
        "   print(i)"
      ]
    },
    {
      "cell_type": "code",
      "execution_count": null,
      "metadata": {
        "colab": {
          "base_uri": "https://localhost:8080/"
        },
        "id": "knHzRTQXhvzT",
        "outputId": "2763f467-b804-4b23-8f38-81e293ac31c2"
      },
      "outputs": [
        {
          "name": "stdout",
          "output_type": "stream",
          "text": [
            "0\n",
            "1\n",
            "2\n",
            "3\n",
            "4\n",
            "6\n",
            "7\n",
            "8\n",
            "9\n"
          ]
        }
      ],
      "source": [
        "# skip number 5 while printing 1 to 10\n",
        "for i in range(0,10):\n",
        "   if(i==5):\n",
        "    continue\n",
        "   print(i)\n"
      ]
    },
    {
      "cell_type": "code",
      "execution_count": null,
      "metadata": {
        "colab": {
          "base_uri": "https://localhost:8080/"
        },
        "id": "LsCJWLPBiUwc",
        "outputId": "b03c69af-d5bf-4374-e8ad-0e6a1e484bfc"
      },
      "outputs": [
        {
          "name": "stdout",
          "output_type": "stream",
          "text": [
            "8\n"
          ]
        }
      ],
      "source": [
        "# find the 1st even number then break\n",
        "x=[3,5,7,8,11,13]\n",
        "for i in x:\n",
        "   if(i%2==0):\n",
        "    print(i)\n",
        "    break\n"
      ]
    },
    {
      "cell_type": "code",
      "execution_count": null,
      "metadata": {
        "colab": {
          "base_uri": "https://localhost:8080/"
        },
        "id": "PaGeeMtBiwZs",
        "outputId": "bd61edc2-f89a-403b-fa8f-cda535fca5e9"
      },
      "outputs": [
        {
          "name": "stdout",
          "output_type": "stream",
          "text": [
            "3\n",
            "5\n",
            "7\n",
            "11\n",
            "13\n"
          ]
        }
      ],
      "source": [
        "# odd and continue\n",
        "x=[3,5,7,8,11,13]\n",
        "for i in x:\n",
        "   if(i%2!=0):\n",
        "    print(i)\n",
        "    continue"
      ]
    },
    {
      "cell_type": "code",
      "execution_count": null,
      "metadata": {
        "colab": {
          "base_uri": "https://localhost:8080/"
        },
        "id": "0MnXvuZ8kCm-",
        "outputId": "ef5df7af-d4fa-4002-c12c-8e3f56f4badb"
      },
      "outputs": [
        {
          "name": "stdout",
          "output_type": "stream",
          "text": [
            "1\n",
            "2\n",
            "3\n",
            "4\n",
            "2\n",
            "4\n",
            "6\n",
            "8\n",
            "3\n",
            "6\n",
            "9\n",
            "12\n",
            "4\n",
            "8\n",
            "12\n",
            "16\n"
          ]
        }
      ],
      "source": [
        "# Nested loop\n",
        "# Multiply multiplication\n",
        "for i in range(1,5):\n",
        " for j in range(1,10):\n",
        "\n",
        "\n",
        "\n",
        "\n",
        "\n"
      ]
    },
    {
      "cell_type": "code",
      "execution_count": null,
      "metadata": {
        "colab": {
          "base_uri": "https://localhost:8080/"
        },
        "id": "rAS-VZIzlNhV",
        "outputId": "0f4b1e97-4480-4e21-c127-80b7071d1b8d"
      },
      "outputs": [
        {
          "name": "stdout",
          "output_type": "stream",
          "text": [
            "* \n",
            "* * \n",
            "* * * \n",
            "* * * * \n",
            "* * * * * \n"
          ]
        }
      ],
      "source": [
        "#patter\n",
        "\n",
        "for i in range(1,6):\n",
        "  for j in range(i):\n",
        "    print(\"*\",end=(' '))\n",
        "  print()"
      ]
    },
    {
      "cell_type": "code",
      "execution_count": null,
      "metadata": {
        "colab": {
          "base_uri": "https://localhost:8080/"
        },
        "id": "taBjNaIBmSpW",
        "outputId": "f0363f7d-f3c5-4bcb-abeb-7a67bbb5b83a"
      },
      "outputs": [
        {
          "name": "stdout",
          "output_type": "stream",
          "text": [
            "0 \n",
            "0 1 \n",
            "0 1 2 \n",
            "0 1 2 3 \n",
            "0 1 2 3 4 \n"
          ]
        }
      ],
      "source": [
        "#\n",
        "for i in range(1,6):\n",
        "  for j in range(i):\n",
        "    print(\"*\",end=(' '))\n",
        "  print()"
      ]
    },
    {
      "cell_type": "code",
      "execution_count": null,
      "metadata": {
        "colab": {
          "base_uri": "https://localhost:8080/"
        },
        "id": "3ixteAawmJ7O",
        "outputId": "cbc6f3fe-4fd2-4173-c349-c10ca0c1519a"
      },
      "outputs": [
        {
          "name": "stdout",
          "output_type": "stream",
          "text": [
            "20\n",
            "19\n",
            "18\n",
            "17\n",
            "16\n",
            "15\n",
            "14\n",
            "13\n",
            "12\n",
            "11\n",
            "10\n",
            "9\n",
            "8\n",
            "7\n",
            "6\n",
            "5\n",
            "4\n",
            "3\n",
            "2\n",
            "1\n"
          ]
        }
      ],
      "source": [
        "#Reversecounting from 20 to 1\n",
        "for i in range(0,20):\n",
        "  print(20-i)"
      ]
    },
    {
      "cell_type": "code",
      "execution_count": null,
      "metadata": {
        "colab": {
          "base_uri": "https://localhost:8080/"
        },
        "id": "QRrPda8wnj9o",
        "outputId": "1ddf4415-5829-4903-b0a5-70fcfdb3f3fc"
      },
      "outputs": [
        {
          "name": "stdout",
          "output_type": "stream",
          "text": [
            "Enter the Number : 5\n",
            "Enter the Number : 3\n"
          ]
        }
      ],
      "source": [
        "#Print Fabonaci series\n",
        "user=int(input(\"Enter the Number : \"))\n",
        "user2=int(input(\"Enter the Number : \"))\n",
        "for i in range(user,user2):\n",
        "  if (i==0):\n",
        "    print()"
      ]
    },
    {
      "cell_type": "code",
      "execution_count": null,
      "metadata": {
        "colab": {
          "base_uri": "https://localhost:8080/"
        },
        "id": "ST4lIYJfowkB",
        "outputId": "3c1129e1-1ccd-4845-c8a9-8797340d54ea"
      },
      "outputs": [
        {
          "name": "stdout",
          "output_type": "stream",
          "text": [
            "Enter the Number : 10\n",
            "10 is not a prime number\n"
          ]
        }
      ],
      "source": [
        "#print prime number\n",
        "num=int(input(\"Enter the Number : \"))\n",
        "if num > 1:\n",
        "    for i in range(2, (num//2)+1):\n",
        "        if (num % i) == 0:\n",
        "            print(num, \"is not a prime number\")\n",
        "            break\n",
        "    else:\n",
        "        print(num, \"is a prime number\")\n",
        "else:\n",
        "    print(num, \"is not a prime number\")"
      ]
    },
    {
      "cell_type": "code",
      "execution_count": null,
      "metadata": {
        "colab": {
          "base_uri": "https://localhost:8080/",
          "height": 53
        },
        "id": "qsu0ehbNqIXC",
        "outputId": "8fc741a4-94ba-41f1-b67d-68d40cb82e99"
      },
      "outputs": [
        {
          "data": {
            "application/vnd.google.colaboratory.intrinsic+json": {
              "type": "string"
            },
            "text/plain": [
              "'\\n\\n# Factorialof a number \\n#Count vovels in the string\\n#Reversed the sring using for loop\\n#Multipilication  table of a number \\n#Sum of first ten natural number \\n\\n'"
            ]
          },
          "execution_count": 52,
          "metadata": {},
          "output_type": "execute_result"
        }
      ],
      "source": [
        "'''\n",
        "\n",
        "# Factorialof a number\n",
        "#Count vovels in the string\n",
        "#Reversed the sring using for loop\n",
        "#Multipilication  table of a number\n",
        "#Sum of first ten natural number\n",
        "\n",
        "'''"
      ]
    },
    {
      "cell_type": "code",
      "execution_count": null,
      "metadata": {
        "colab": {
          "base_uri": "https://localhost:8080/"
        },
        "id": "KkeShO9-Yv4V",
        "outputId": "b0f0e1eb-88a8-4b4e-a424-1427cac6e9a7"
      },
      "outputs": [
        {
          "name": "stdout",
          "output_type": "stream",
          "text": [
            "120\n"
          ]
        }
      ],
      "source": [
        "# Factorialof a number\n",
        "x=int(input(\"Enter the Number\"))\n",
        "for i in range(x,1,-1):\n",
        "  x=x*(i-1)\n",
        "print(x)\n"
      ]
    },
    {
      "cell_type": "code",
      "execution_count": null,
      "metadata": {
        "colab": {
          "base_uri": "https://localhost:8080/"
        },
        "id": "cGmk6Kf3ar-E",
        "outputId": "c0ef90c7-746d-4652-824c-64ad5fa5a4dc"
      },
      "outputs": [
        {
          "name": "stdout",
          "output_type": "stream",
          "text": [
            "1\n",
            "2\n"
          ]
        }
      ],
      "source": [
        "'''#While Loop\n",
        "infinite upto true condition\n",
        "'''\n",
        "i = 1\n",
        "while i < 6:\n",
        "  if i==3:\n",
        "    break\n",
        "  print(i)\n",
        "  i += 1"
      ]
    },
    {
      "cell_type": "code",
      "execution_count": null,
      "metadata": {
        "colab": {
          "base_uri": "https://localhost:8080/"
        },
        "id": "Ic1kaVyMmUah",
        "outputId": "1e28820d-6543-4649-e593-00f0ac12fc2f"
      },
      "outputs": [
        {
          "name": "stdout",
          "output_type": "stream",
          "text": [
            "1\n",
            "2\n",
            "3\n",
            "4\n",
            "5\n",
            "6\n",
            "7\n",
            "8\n",
            "9\n",
            "10\n",
            "11\n",
            "12\n",
            "13\n",
            "14\n",
            "15\n",
            "16\n",
            "17\n",
            "18\n",
            "19\n",
            "20\n",
            "21\n",
            "22\n",
            "23\n",
            "24\n",
            "25\n",
            "26\n",
            "27\n",
            "28\n",
            "29\n",
            "30\n",
            "31\n",
            "32\n",
            "33\n",
            "34\n",
            "35\n",
            "36\n",
            "37\n",
            "38\n",
            "39\n",
            "40\n",
            "41\n",
            "42\n",
            "43\n",
            "44\n",
            "45\n",
            "46\n",
            "47\n",
            "48\n",
            "49\n",
            "50\n",
            "51\n",
            "52\n",
            "53\n",
            "54\n",
            "55\n",
            "56\n",
            "57\n",
            "58\n",
            "59\n",
            "60\n",
            "61\n",
            "62\n",
            "63\n",
            "64\n",
            "65\n",
            "66\n",
            "67\n",
            "68\n",
            "69\n",
            "70\n",
            "71\n",
            "72\n",
            "73\n",
            "74\n",
            "75\n",
            "76\n",
            "77\n",
            "78\n",
            "79\n",
            "80\n",
            "81\n",
            "82\n",
            "83\n",
            "84\n",
            "85\n",
            "86\n",
            "87\n",
            "88\n",
            "89\n",
            "90\n",
            "91\n",
            "92\n",
            "93\n",
            "94\n",
            "95\n",
            "96\n",
            "97\n",
            "98\n",
            "99\n",
            "100\n"
          ]
        }
      ],
      "source": [
        "#Print number from 1 to 100\n",
        "i=1\n",
        "while i<=100:\n",
        "  print(i)\n",
        "  i +=1"
      ]
    },
    {
      "cell_type": "code",
      "execution_count": null,
      "metadata": {
        "colab": {
          "base_uri": "https://localhost:8080/",
          "height": 239
        },
        "id": "xK5U6VwjoEiS",
        "outputId": "b7503185-957e-4ac6-c529-2dedf669dacb"
      },
      "outputs": [
        {
          "name": "stdout",
          "output_type": "stream",
          "text": [
            "enter the number5\n",
            "5 x 1 = 5\n",
            "5 x 2 = 10\n",
            "5 x 3 = 15\n",
            "5 x 4 = 20\n",
            "5 x 5 = 25\n",
            "5 x 6 = 30\n",
            "5 x 7 = 35\n",
            "5 x 8 = 40\n",
            "5 x 9 = 45\n",
            "5 x 10 = 50\n"
          ]
        },
        {
          "data": {
            "application/vnd.google.colaboratory.intrinsic+json": {
              "type": "string"
            },
            "text/plain": [
              "'Multiplication using  For loop '"
            ]
          },
          "execution_count": 45,
          "metadata": {},
          "output_type": "execute_result"
        }
      ],
      "source": [
        "'''Multiplication using  While loop '''\n",
        "# print the multiplication table of number n\n",
        "multiplier = int(input(\"enter the number\"))\n",
        "counter = 1\n",
        "while counter <= 10:\n",
        "  # result = counter * multiplier\n",
        "  print(f\"{multiplier} x {counter} = {counter * multiplier}\")            # 2 * 1 = 2\n",
        "  counter+=1\n",
        "\n",
        "''' Multiplication using  For loop '''\n",
        "# multiplier = int(input(\"enter the number\"))\n",
        "# counter = [1,2,3,4,5,6,7,8,9,10]\n",
        "# for i in counter:\n",
        "#   print(f\"{multiplier} x {i} = {i*multiplier}\")\n"
      ]
    },
    {
      "cell_type": "code",
      "execution_count": null,
      "metadata": {
        "colab": {
          "base_uri": "https://localhost:8080/"
        },
        "id": "XR78LQB3phHa",
        "outputId": "f13a9914-146c-4476-b36a-f75759edb8aa"
      },
      "outputs": [
        {
          "name": "stdout",
          "output_type": "stream",
          "text": [
            "[1, 4, 9, 16, 25, 36, 49, 64, 81, 100]\n"
          ]
        }
      ],
      "source": [
        "#print the element of the following loop in a list\n",
        "l=[1,4,9,16,25,36,49,64,81,100]\n",
        "print(l)\n"
      ]
    },
    {
      "cell_type": "code",
      "execution_count": null,
      "metadata": {
        "colab": {
          "base_uri": "https://localhost:8080/"
        },
        "id": "8IWQyrLbqGOS",
        "outputId": "bbedb5f7-2a6b-41f4-e0f8-29f389726be4"
      },
      "outputs": [
        {
          "name": "stdout",
          "output_type": "stream",
          "text": [
            "10\n",
            "9\n",
            "8\n",
            "7\n",
            "6\n",
            "5\n",
            "4\n",
            "3\n",
            "2\n",
            "1\n"
          ]
        }
      ],
      "source": [
        "#print nuber 10 to 1\n",
        "for x in range(10,0,-1):\n",
        "  print(x)"
      ]
    },
    {
      "cell_type": "code",
      "execution_count": null,
      "metadata": {
        "colab": {
          "base_uri": "https://localhost:8080/"
        },
        "id": "XQNdhSBXqX9E",
        "outputId": "1c31500f-000a-4d11-c5ae-901e32928df3"
      },
      "outputs": [
        {
          "name": "stdout",
          "output_type": "stream",
          "text": [
            "Enter the number : 5\n",
            "The sum 1st natural number : 15\n"
          ]
        }
      ],
      "source": [
        "#find the sum 1st n natural number using while loop\n",
        "N=int(input(\"Enter the number : \"))\n",
        "total = 0\n",
        "count = 1\n",
        "while count <= N:\n",
        "    total += count\n",
        "    count += 1\n",
        "\n",
        "print(f\"The sum 1st natural number :\",(total))"
      ]
    },
    {
      "cell_type": "code",
      "execution_count": null,
      "metadata": {
        "colab": {
          "base_uri": "https://localhost:8080/"
        },
        "id": "dZs0dtqnsuel",
        "outputId": "0a7c7cd1-218b-4bbe-f098-1425cead1e7c"
      },
      "outputs": [
        {
          "name": "stdout",
          "output_type": "stream",
          "text": [
            "Enter the number5\n",
            "Enter the number2\n",
            "3\n"
          ]
        }
      ],
      "source": [
        "#substract two number using while loop\n",
        "num1=int(input(\"Enter the number\"))\n",
        "num2=int(input(\"Enter the number\"))\n",
        "res=0\n",
        "count=num1\n",
        "while count>=0:\n",
        "  res= num1-num2\n",
        "  print(res)\n",
        "  break"
      ]
    },
    {
      "cell_type": "code",
      "execution_count": null,
      "metadata": {
        "colab": {
          "base_uri": "https://localhost:8080/"
        },
        "id": "jSNsMdBV-9Nn",
        "outputId": "05b4172d-8525-413e-fa2a-aedf14d0bb5e"
      },
      "outputs": [
        {
          "name": "stdout",
          "output_type": "stream",
          "text": [
            "Hello from a function\n"
          ]
        }
      ],
      "source": [
        "''' Functions''' #A function is a block of code that performs a specific task and can be reused multiple times within a program\n",
        "\n",
        "def my_function():   # def is a keyword used to define a function. #create\n",
        "  print(\"Hello from a function\") #statement\n",
        "  return\n",
        "my_function() #calling function"
      ]
    },
    {
      "cell_type": "code",
      "execution_count": null,
      "metadata": {
        "colab": {
          "base_uri": "https://localhost:8080/"
        },
        "id": "ErRlVq6ODP2e",
        "outputId": "3233263d-5b0a-4b28-b012-90cea3447d21"
      },
      "outputs": [
        {
          "data": {
            "text/plain": [
              "3"
            ]
          },
          "execution_count": 8,
          "metadata": {},
          "output_type": "execute_result"
        }
      ],
      "source": [
        "def my_function(a,b):\n",
        "  s=a+b\n",
        "  return s\n",
        "my_function(1,2)"
      ]
    },
    {
      "cell_type": "code",
      "execution_count": null,
      "metadata": {
        "colab": {
          "base_uri": "https://localhost:8080/"
        },
        "id": "DkXy3P1_E7EU",
        "outputId": "a85a10a8-eb2c-4612-a189-a0850fe83abb"
      },
      "outputs": [
        {
          "name": "stdout",
          "output_type": "stream",
          "text": [
            "{'Shiwam'} {18}\n",
            "{'Rohit'} {24}\n"
          ]
        }
      ],
      "source": [
        "''' Argument\n",
        "             a)default argument\n",
        "             b)positional argument\n",
        "             c)keyword argument\n",
        "             d)*args (arbitrary) (* args)\n",
        "             e)**kwargs  (a=5,**b)\n",
        "'''\n",
        "def data(name,age=18):\n",
        "  print({name},{age})\n",
        "data(\"Shiwam\")\n",
        "data(\"Rohit\",24)"
      ]
    },
    {
      "cell_type": "code",
      "execution_count": null,
      "metadata": {
        "colab": {
          "base_uri": "https://localhost:8080/"
        },
        "id": "ycrRf1OyJwFn",
        "outputId": "17a87b00-e5bd-43c8-b9f5-d510b3644bb3"
      },
      "outputs": [
        {
          "name": "stdout",
          "output_type": "stream",
          "text": [
            "5\n"
          ]
        }
      ],
      "source": [
        "#wap to print the lenghth of a list is a parameter\n",
        "list_class=(1,2,3,4,5)\n",
        "def list1(list):\n",
        "  print(len(list))\n",
        "list1(list_class)\n"
      ]
    },
    {
      "cell_type": "code",
      "execution_count": null,
      "metadata": {
        "colab": {
          "base_uri": "https://localhost:8080/"
        },
        "id": "siVx1oRPLQVq",
        "outputId": "71d857e9-f53a-42c2-fd48-53c27719e6f5"
      },
      "outputs": [
        {
          "name": "stdout",
          "output_type": "stream",
          "text": [
            "1 2 3 4 5\n"
          ]
        }
      ],
      "source": [
        "# wap a function list of element in a single line\n",
        "list_class=(1,2,3,4,5)\n",
        "def list1(list):\n",
        "  # for i in list_class\n",
        "  # print(i,and,\" \")\n",
        "  print(*(list))\n",
        "list1(list_class)"
      ]
    },
    {
      "cell_type": "code",
      "execution_count": null,
      "metadata": {
        "colab": {
          "base_uri": "https://localhost:8080/"
        },
        "id": "yJZ3HGSZMZ-F",
        "outputId": "32d811c0-e188-4d45-d306-f02ad30ce0bc"
      },
      "outputs": [
        {
          "data": {
            "text/plain": [
              "120"
            ]
          },
          "execution_count": 60,
          "metadata": {},
          "output_type": "execute_result"
        }
      ],
      "source": [
        "# wap to find factorial of n\n",
        "def factorial(n):\n",
        "    if n == 0:\n",
        "        return 1\n",
        "    else:\n",
        "        result = 1\n",
        "        for i in range(1, n + 1):\n",
        "            result *= i\n",
        "        return result\n",
        "factorial(4)\n",
        "\n",
        "factorial(5)\n"
      ]
    },
    {
      "cell_type": "code",
      "execution_count": null,
      "metadata": {
        "colab": {
          "base_uri": "https://localhost:8080/"
        },
        "id": "L1ElqqgwN6Ac",
        "outputId": "cce6ef5d-c1f2-4bad-b451-23dee860e94c"
      },
      "outputs": [
        {
          "name": "stdout",
          "output_type": "stream",
          "text": [
            "The number is even :8\n",
            "The number is even :9\n"
          ]
        }
      ],
      "source": [
        "# wap to number is even or add\n",
        "def num(a):\n",
        "  if a/2==0:\n",
        "    print(\"The number is odd :\"+str(a))\n",
        "  else:\n",
        "    print(\"The number is even :\"+str(a))\n",
        "num(8)\n",
        "num(9)"
      ]
    },
    {
      "cell_type": "code",
      "execution_count": null,
      "metadata": {
        "id": "3t219wUMRykt"
      },
      "outputs": [
        {
          "name": "stdout",
          "output_type": "stream",
          "text": [
            "87.79 Indian Rupee\n",
            "877.9000000000001 Indian Rupee\n"
          ]
        }
      ],
      "source": [
        "# waf to conver usd $ to indian rupees\n",
        "# exchange-rate=87.79\n",
        "def convert(a):\n",
        "    if a>0:\n",
        "        a=a*87.79\n",
        "    print(a,\"Indian Rupee\")\n",
        "convert(1)   \n",
        "convert(10)     "
      ]
    },
    {
      "cell_type": "code",
      "execution_count": null,
      "metadata": {},
      "outputs": [
        {
          "name": "stdout",
          "output_type": "stream",
          "text": [
            "Hey !\n"
          ]
        }
      ],
      "source": [
        "# Python program to illustrate nested functions \n",
        "def outerFunction(text): \n",
        "    text = text \n",
        "  \n",
        "    def innerFunction(): \n",
        "        print(text) \n",
        "  \n",
        "    innerFunction() \n",
        "  \n",
        "if __name__ == '__main__': \n",
        "    outerFunction('Hey !') "
      ]
    },
    {
      "cell_type": "code",
      "execution_count": null,
      "metadata": {},
      "outputs": [
        {
          "data": {
            "text/plain": [
              "120"
            ]
          },
          "execution_count": 4,
          "metadata": {},
          "output_type": "execute_result"
        }
      ],
      "source": [
        "#Through the function find \n",
        "def main(n):\n",
        "    if(n==1 or n==0):\n",
        "        return 1\n",
        "    else:\n",
        "        return n*main(n-1)\n",
        "main(5)    "
      ]
    },
    {
      "cell_type": "code",
      "execution_count": null,
      "metadata": {},
      "outputs": [
        {
          "name": "stdout",
          "output_type": "stream",
          "text": [
            "Factorial of 5 is 120\n"
          ]
        }
      ],
      "source": [
        "# Python 3 program to find\n",
        "# factorial of given number\n",
        "import math\n",
        "\n",
        "def factorial(n):\n",
        "    return(math.factorial(n))\n",
        "\n",
        "num = 5\n",
        "print(\"Factorial of\", num, \"is\",\n",
        "      factorial(num))\n",
        "\n",
        "\n"
      ]
    },
    {
      "cell_type": "code",
      "execution_count": null,
      "metadata": {},
      "outputs": [
        {
          "name": "stdout",
          "output_type": "stream",
          "text": [
            "[0, 4, 16, 36, 64]\n"
          ]
        }
      ],
      "source": [
        "# LIst commrihension\n",
        "# [exp for i in range(1,12) if i%2==0]\n",
        "# wap to square a number using list comprehension\n",
        "Square =()\n",
        "Square =[i**2 for i in range(0,10)]\n",
        "even_square=[num for num in Square if num%2 ==0]\n",
        "First2_even_square=[num for num in even_square ]\n",
        "\n",
        "print(even_square)"
      ]
    },
    {
      "cell_type": "code",
      "execution_count": null,
      "metadata": {},
      "outputs": [
        {
          "name": "stdout",
          "output_type": "stream",
          "text": [
            "[(0, 0), (1, 1), (2, 4), (3, 9), (4, 16)]\n"
          ]
        }
      ],
      "source": [
        "# Creating a list of tuples9(number and square)\n",
        "x=[()]\n",
        "Square =[(i, i**2) for i in range(5)]\n",
        "x=Square\n",
        "print(x)\n"
      ]
    },
    {
      "cell_type": "code",
      "execution_count": null,
      "metadata": {},
      "outputs": [
        {
          "name": "stdout",
          "output_type": "stream",
          "text": [
            "['SHIWAM', 'ROHIT', 'ABISEK']\n"
          ]
        }
      ],
      "source": [
        "# coverting a list in upper case\n",
        "x=(\"Shiwam\",\"Rohit\",\"Abisek\")\n",
        "upper_case =[x.upper() for x in x]\n",
        "print(upper_case)\n"
      ]
    },
    {
      "cell_type": "code",
      "execution_count": null,
      "metadata": {},
      "outputs": [
        {
          "name": "stdout",
          "output_type": "stream",
          "text": [
            "[[1, 2, 3], [4, 5, 6], [7, 8, 9], [1, 2, 3], [4, 5, 6], [7, 8, 9], [1, 2, 3], [4, 5, 6], [7, 8, 9]]\n"
          ]
        }
      ],
      "source": [
        "# Flatining The Nested List\n",
        "nested_list=[[1,2,3],[4,5,6],[7,8,9]]\n",
        "convert_=[]\n",
        "print(convert_)\n"
      ]
    },
    {
      "cell_type": "code",
      "execution_count": null,
      "metadata": {},
      "outputs": [],
      "source": [
        "'''\n",
        "#create a list of cubes for numbers 1 to 10 using list comprehention\n",
        "#filter prime numbers from a list[2,3,4,5,6,7,8,9,10]\n",
        "#create a list of tuples where each tuple contain a number and its square root for numbers one to five \n",
        "#flatten a 2d list using list comprehention\n",
        "#write s function that takes a list of number and return a list of thier square\n",
        "#write a function that takes a sentence as input and returna llist of words \n",
        "#WAF that removes all vowels from a given string using list comprehention\n",
        "'''"
      ]
    },
    {
      "cell_type": "code",
      "execution_count": null,
      "metadata": {},
      "outputs": [
        {
          "name": "stdout",
          "output_type": "stream",
          "text": [
            "[1, 8, 27, 64]\n"
          ]
        }
      ],
      "source": [
        "# create a list of cubes for numbers 1 to 10 using list comprehention\n",
        "l = [1, 2, 3, 4]\n",
        "\n",
        "def cube_list_recursive(lst):\n",
        "\tif len(lst) == 0:\n",
        "\t\treturn []\n",
        "\telse:\n",
        "\t\treturn [lst[0]**3] + cube_list_recursive(lst[1:])\n",
        "\n",
        "# Cube List using loop\n",
        "res = cube_list_recursive(l)\n",
        "\n",
        "# printing result\n",
        "print(res)\n"
      ]
    },
    {
      "cell_type": "code",
      "execution_count": null,
      "metadata": {},
      "outputs": [
        {
          "name": "stdout",
          "output_type": "stream",
          "text": [
            "[2, 3, 5, 7]\n"
          ]
        }
      ],
      "source": [
        "# filter prime numbers from a list[2,3,4,5,6,7,8,9,10]\n",
        "def is_prime(n):\n",
        "    if n < 2:\n",
        "        return False\n",
        "    return all(n % i != 0 for i in range(2, int(n**0.5) + 1))\n",
        "\n",
        "numbers = [2, 3, 4, 5, 6, 7, 8, 9, 10]\n",
        "prime_numbers = [num for num in numbers if is_prime(num)]\n",
        "\n",
        "print(prime_numbers)\n",
        "\n",
        "\n"
      ]
    },
    {
      "cell_type": "code",
      "execution_count": null,
      "metadata": {},
      "outputs": [
        {
          "name": "stdout",
          "output_type": "stream",
          "text": [
            "[(1, 1), (2, 4), (3, 9), (4, 16), (5, 25)]\n"
          ]
        }
      ],
      "source": [
        "#create a list of tuples where each tuple contain a number and its square root for numbers one to five \n",
        "\n",
        "numbers = [1, 2, 3, 4, 5]\n",
        "squares = [(i, i**2) for i in numbers]\n",
        "\n",
        "print(squares)"
      ]
    },
    {
      "cell_type": "code",
      "execution_count": null,
      "metadata": {},
      "outputs": [
        {
          "name": "stdout",
          "output_type": "stream",
          "text": [
            "50\n"
          ]
        }
      ],
      "source": [
        "'''Python Lambda'''\n",
        "'''A lambda function is a small anonymous function.'''\n",
        "x = lambda a : a * 10 \n",
        "print(x(5))"
      ]
    },
    {
      "cell_type": "code",
      "execution_count": null,
      "metadata": {},
      "outputs": [
        {
          "name": "stdout",
          "output_type": "stream",
          "text": [
            "10\n",
            "20\n",
            "30\n",
            "40\n",
            "50\n",
            "60\n",
            "70\n",
            "80\n",
            "90\n"
          ]
        }
      ],
      "source": [
        "x = [lambda arg=a : arg*10 for a in range(1,10)]\n",
        "for i in x:\n",
        "  print(i())"
      ]
    },
    {
      "cell_type": "code",
      "execution_count": null,
      "metadata": {},
      "outputs": [
        {
          "name": "stdout",
          "output_type": "stream",
          "text": [
            "Odd\n"
          ]
        }
      ],
      "source": [
        "# even or odd\n",
        "x = lambda arg: \"even\" if arg%2==0  else \"Odd\" \n",
        "print(x(7))"
      ]
    },
    {
      "cell_type": "code",
      "execution_count": null,
      "metadata": {},
      "outputs": [
        {
          "name": "stdout",
          "output_type": "stream",
          "text": [
            "36\n"
          ]
        }
      ],
      "source": [
        "def square():\n",
        "    return lambda n:n**2\n",
        "y=square()\n",
        "print(y(6))"
      ]
    },
    {
      "cell_type": "code",
      "execution_count": null,
      "metadata": {},
      "outputs": [
        {
          "name": "stdout",
          "output_type": "stream",
          "text": [
            "7\n"
          ]
        }
      ],
      "source": [
        "# Find the maximum of two numbers \n",
        "maximum = lambda a ,b : a if a>b else b\n",
        "print(maximum(6,7))    "
      ]
    },
    {
      "cell_type": "code",
      "execution_count": null,
      "metadata": {},
      "outputs": [
        {
          "name": "stdout",
          "output_type": "stream",
          "text": [
            "mawihS\n"
          ]
        }
      ],
      "source": [
        "# reverse a string using lambda\n",
        "reverse= lambda a :a[::-1]\n",
        "print(reverse('Shiwam'))"
      ]
    },
    {
      "cell_type": "code",
      "execution_count": null,
      "metadata": {},
      "outputs": [],
      "source": [
        "# sort a list of tuples by secound element "
      ]
    },
    {
      "cell_type": "code",
      "execution_count": null,
      "metadata": {},
      "outputs": [
        {
          "name": "stdout",
          "output_type": "stream",
          "text": [
            "[(4, 2), (1, 3), (3, 5)]\n"
          ]
        }
      ],
      "source": [
        "data= [(1,3),(4,2),(3,5)]\n",
        "sorted_list = sorted(data,key =lambda x:x[1])\n",
        "print(sorted_list)"
      ]
    },
    {
      "cell_type": "code",
      "execution_count": null,
      "metadata": {},
      "outputs": [],
      "source": [
        "list =[1,2,3,4,5,6,7,8,9]\n",
        "# even_number = "
      ]
    },
    {
      "cell_type": "code",
      "execution_count": null,
      "metadata": {},
      "outputs": [
        {
          "name": "stdout",
          "output_type": "stream",
          "text": [
            "False\n"
          ]
        }
      ],
      "source": [
        "# Find a factorial of a number using Recursion \n",
        "fact = lambda a: i in range(1, a + 1) \n",
        "print(fact(4))"
      ]
    },
    {
      "cell_type": "code",
      "execution_count": null,
      "metadata": {},
      "outputs": [
        {
          "name": "stdout",
          "output_type": "stream",
          "text": [
            "6\n"
          ]
        }
      ],
      "source": [
        "# Find the length of a  string using recursion\n",
        "lenth = lambda a: len(a)\n",
        "print(lenth(\"Shiwam\"))\n"
      ]
    },
    {
      "cell_type": "code",
      "execution_count": null,
      "metadata": {},
      "outputs": [
        {
          "name": "stdout",
          "output_type": "stream",
          "text": [
            "3\n"
          ]
        }
      ],
      "source": [
        "# Find the grater of three number\n",
        "graterThree= lambda a, b , c : a if a>b and a>c else (b if b>c  else c)\n",
        "print(graterThree(1,2,3))"
      ]
    },
    {
      "cell_type": "code",
      "execution_count": null,
      "metadata": {},
      "outputs": [
        {
          "name": "stdout",
          "output_type": "stream",
          "text": [
            "S\n"
          ]
        }
      ],
      "source": [
        "# extract the First charof string\n",
        "char =  lambda a : a[0]\n",
        "print(char('Shiwam'))"
      ]
    },
    {
      "cell_type": "code",
      "execution_count": null,
      "metadata": {},
      "outputs": [
        {
          "name": "stdout",
          "output_type": "stream",
          "text": [
            "(3, 2)\n"
          ]
        }
      ],
      "source": [
        "# Swap two variable\n",
        "swap1 =  lambda a,b :(b,a)\n",
        "print(swap1(2,3))"
      ]
    },
    {
      "cell_type": "code",
      "execution_count": null,
      "metadata": {},
      "outputs": [
        {
          "name": "stdout",
          "output_type": "stream",
          "text": [
            "[1, 2, 3, 4, 5]\n"
          ]
        }
      ],
      "source": [
        "# Function to convert a list of str to integer \n",
        "def convert_to_int(lst):\n",
        "    return [int(num) for num in lst]\n",
        "\n",
        "str_list = [\"1\", \"2\", \"3\", \"4\", \"5\"]\n",
        "int_list = convert_to_int(str_list)\n",
        "\n",
        "print(int_list)\n"
      ]
    },
    {
      "cell_type": "code",
      "execution_count": null,
      "metadata": {},
      "outputs": [
        {
          "name": "stdout",
          "output_type": "stream",
          "text": [
            "[1, 2, 3, 4, 5]\n"
          ]
        }
      ],
      "source": [
        "def convert_to_int(lst):\n",
        "    return list(map(int, lst))\n",
        "\n",
        "# Example usage\n",
        "str_list = [\"1\", \"2\", \"3\", \"4\", \"5\"]\n",
        "int_list = convert_to_int(str_list)\n",
        "\n",
        "print(int_list)\n"
      ]
    },
    {
      "cell_type": "code",
      "execution_count": null,
      "metadata": {},
      "outputs": [
        {
          "name": "stdout",
          "output_type": "stream",
          "text": [
            "['abc', ' ', 'def', ' ', 'efg']\n"
          ]
        },
        {
          "data": {
            "text/plain": [
              "'\\ndef filter_missing_data(data):\\n    return list(filter(lambda x:x.strip() !=\"\"))\\n\\ndata =[\"abc\" , \" \" , \"def\" , \" \" , \"efg\"]\\nprint(filter_missing_data(data))\\n\\n    '"
            ]
          },
          "execution_count": 149,
          "metadata": {},
          "output_type": "execute_result"
        }
      ],
      "source": [
        "# Funtion to filter out missing  data\n",
        "def filter_missing_data(lst):\n",
        "    return list(filter(lambda x: x not in (None, \"\", float('nan')), lst))\n",
        "data =[\"abc\" , \" \" , \"def\" , \" \" , \"efg\"]\n",
        "print(filter_missing_data(data))\n",
        "'''\n",
        "def filter_missing_data(data):\n",
        "    return list(filter(lambda x:x.strip() !=\"\"))\n",
        "\n",
        "data =[\"abc\" , \" \" , \"def\" , \" \" , \"efg\"]\n",
        "print(filter_missing_data(data))\n",
        "\n",
        "    '''\n",
        "    "
      ]
    },
    {
      "cell_type": "code",
      "execution_count": null,
      "metadata": {},
      "outputs": [
        {
          "name": "stdout",
          "output_type": "stream",
          "text": [
            "['Shiwam', 'Shiwam', 'Sahil']\n"
          ]
        }
      ],
      "source": [
        "# Function to captalized the first letter of name\n",
        "def capitalize_names(names):\n",
        "    return list(map(str.capitalize, names))\n",
        "\n",
        "name_list = [\"shiwam\", \"SHIWAM\", \"sahil\"]\n",
        "print(capitalize_names(name_list))  # Output: ['John', 'Alice', 'Michael']\n"
      ]
    },
    {
      "cell_type": "code",
      "execution_count": null,
      "metadata": {},
      "outputs": [
        {
          "name": "stdout",
          "output_type": "stream",
          "text": [
            "[('abc', 500), ('efg', 7500), ('bcd', 88000)]\n"
          ]
        }
      ],
      "source": [
        "# function to short a list of tuples emp sal data\n",
        "def sort_employees_by_salary(emp_list):\n",
        "    return sorted(emp_list, key=lambda x: x[1])  \n",
        "\n",
        "employees = [(\"abc\", 500), (\"bcd\", 88000), (\"efg\", 7500)]\n",
        "\n",
        "sorted_employees = sort_employees_by_salary(employees)\n",
        "\n",
        "print(sorted_employees)"
      ]
    },
    {
      "cell_type": "code",
      "execution_count": null,
      "metadata": {},
      "outputs": [
        {
          "name": "stdout",
          "output_type": "stream",
          "text": [
            "Counter({'my': 2, 'name': 2, 'is': 2, 'shiwam': 1, 'kumar,': 1, 'son': 1, 'abi': 1})\n"
          ]
        }
      ],
      "source": [
        "# function to count word frequence in a text\n",
        "\n",
        "from collections import Counter\n",
        "\n",
        "def word_frequency(text):\n",
        "    words = text.lower().split()  \n",
        "    return Counter(words)\n",
        "\n",
        "text = \"My Name is Shiwam Kumar, My son name is abi\"\n",
        "word_counts = word_frequency(text)\n",
        "\n",
        "print(word_counts)\n",
        "\n"
      ]
    },
    {
      "cell_type": "code",
      "execution_count": null,
      "metadata": {},
      "outputs": [
        {
          "name": "stdout",
          "output_type": "stream",
          "text": [
            "{'my': 2, 'name': 2, 'is': 2, 'shiwam': 1, 'kumar,': 1, 'son': 1, 'abhi': 1}\n"
          ]
        }
      ],
      "source": [
        "def word_frequency(text):\n",
        "    words = text.lower().split()\n",
        "    freq = {}\n",
        "    for word in words:\n",
        "        freq[word] = freq.get(word, 0) + 1\n",
        "    return freq\n",
        "\n",
        "# Example usage\n",
        "print(word_frequency(\"My Name is Shiwam Kumar, My son name is abhi\"))\n"
      ]
    },
    {
      "cell_type": "code",
      "execution_count": null,
      "metadata": {},
      "outputs": [
        {
          "name": "stdout",
          "output_type": "stream",
          "text": [
            "[('abc', 50000), ('efg', 75000)]\n"
          ]
        }
      ],
      "source": [
        "# function the fiter the emp with salary grater then 50k\n",
        "def sort_employees_by_salary(emp_list):\n",
        "    return [emp for emp in emp_list if emp[1] >= 50000]\n",
        "\n",
        "employees = [(\"abc\", 50000), (\"bcd\", 8000), (\"efg\", 75000)]\n",
        "\n",
        "sorted_employees = sort_employees_by_salary(employees)\n",
        "\n",
        "print(sorted_employees)"
      ]
    },
    {
      "cell_type": "code",
      "execution_count": null,
      "metadata": {},
      "outputs": [
        {
          "name": "stdout",
          "output_type": "stream",
          "text": [
            "[(1, 'abc', 50), (2, 'bcd', 60), (3, 'efg', 80)]\n"
          ]
        }
      ],
      "source": [
        "# function to merge two data set based on there id\n",
        "students = [(1, \"abc\"), (2,\"bcd\"), (3,\"efg\")]\n",
        "marks = [(1, 50), (2,60), (3,80)]\n",
        "\n",
        "merged_data = list(map(lambda s: (s[0], s[1], dict(marks)[s[0]]), students))\n",
        "\n",
        "print(merged_data)"
      ]
    },
    {
      "cell_type": "code",
      "execution_count": null,
      "metadata": {},
      "outputs": [
        {
          "name": "stdout",
          "output_type": "stream",
          "text": [
            "[4, 5]\n"
          ]
        }
      ],
      "source": [
        "# function to find commmon element in  2 list\n",
        "def common_elements(list1, list2):\n",
        "    return list(set(list1) & set(list2))\n",
        "\n",
        "list1 = [1, 2, 3, 4, 5]\n",
        "list2 = [4, 5, 6, 7, 8]\n",
        "\n",
        "print(common_elements(list1, list2))\n"
      ]
    },
    {
      "cell_type": "code",
      "execution_count": null,
      "metadata": {},
      "outputs": [
        {
          "name": "stdout",
          "output_type": "stream",
          "text": [
            "[4, 5]\n"
          ]
        }
      ],
      "source": [
        "def common_elements(list1, list2):\n",
        "    return [item for item in list1 if item in list2]\n",
        "\n",
        "# Example usage\n",
        "list1 = [1, 2, 3, 4, 5]\n",
        "list2 = [4, 5, 6, 7, 8]\n",
        "\n",
        "print(common_elements(list1, list2))\n"
      ]
    },
    {
      "cell_type": "code",
      "execution_count": null,
      "metadata": {},
      "outputs": [
        {
          "name": "stdout",
          "output_type": "stream",
          "text": [
            "[1, 2, 3, 4, 5]\n"
          ]
        }
      ],
      "source": [
        "remove_duplicates = lambda lst: list(dict.fromkeys(lst))\n",
        "\n",
        "numbers = [1, 2, 2, 3, 4, 4, 5]\n",
        "print(remove_duplicates(numbers))\n"
      ]
    },
    {
      "cell_type": "code",
      "execution_count": null,
      "metadata": {},
      "outputs": [
        {
          "name": "stdout",
          "output_type": "stream",
          "text": [
            "[1, 2, 3, 4, 5]\n"
          ]
        }
      ],
      "source": [
        "# function to remove duplictes  from a list\n",
        "def remove_duplicates(lst):\n",
        "    return list(set(lst))\n",
        "\n",
        "numbers = [1, 2, 2, 3, 4, 4, 5]\n",
        "print(remove_duplicates(numbers))\n",
        " "
      ]
    },
    {
      "cell_type": "code",
      "execution_count": null,
      "metadata": {},
      "outputs": [
        {
          "name": "stdout",
          "output_type": "stream",
          "text": [
            "[0.0, 0.25, 0.5, 0.75, 1.0]\n"
          ]
        }
      ],
      "source": [
        "# function to normalized a list of prices\n",
        "\n",
        "def normalize_prices(prices):\n",
        "    min_price = min(prices)\n",
        "    max_price = max(prices)\n",
        "    return [(p - min_price) / (max_price - min_price) for p in prices]\n",
        "\n",
        "prices = [100, 200, 300, 400, 500]\n",
        "normalized_prices = normalize_prices(prices)\n",
        "\n",
        "print(normalized_prices)\n"
      ]
    },
    {
      "cell_type": "code",
      "execution_count": null,
      "metadata": {},
      "outputs": [
        {
          "name": "stdout",
          "output_type": "stream",
          "text": [
            "list[<map object at 0x000001998D0D4250>]\n"
          ]
        }
      ],
      "source": [
        "# function to mask sensetive data\n",
        "phoneNo= ['59559595959','8585858585']\n",
        "\n",
        "def maskNo(x):\n",
        "    return list[map(lambda x:x[:-4]+'****',phoneNo)]\n",
        "x= maskNo(phoneNo)\n",
        "print(x)\n"
      ]
    },
    {
      "cell_type": "code",
      "execution_count": null,
      "metadata": {},
      "outputs": [
        {
          "name": "stdout",
          "output_type": "stream",
          "text": [
            "************5678\n"
          ]
        }
      ],
      "source": [
        "def mask_credit_card(card_number):\n",
        "    return '*' * (len(card_number) - 4) + card_number[-4:]\n",
        "\n",
        "print(mask_credit_card(\"1234567812345678\"))  # ************5678\n"
      ]
    },
    {
      "cell_type": "code",
      "execution_count": null,
      "metadata": {},
      "outputs": [
        {
          "ename": "NameError",
          "evalue": "name 're' is not defined",
          "output_type": "error",
          "traceback": [
            "\u001b[1;31m---------------------------------------------------------------------------\u001b[0m",
            "\u001b[1;31mNameError\u001b[0m                                 Traceback (most recent call last)",
            "Cell \u001b[1;32mIn[187], line 14\u001b[0m\n\u001b[0;32m      6\u001b[0m \u001b[38;5;66;03m# Example usage\u001b[39;00m\n\u001b[0;32m      7\u001b[0m dataset \u001b[38;5;241m=\u001b[39m [\n\u001b[0;32m      8\u001b[0m     \u001b[38;5;124m\"\u001b[39m\u001b[38;5;124mJohn\u001b[39m\u001b[38;5;124m'\u001b[39m\u001b[38;5;124ms email is john.doe@example.com\u001b[39m\u001b[38;5;124m\"\u001b[39m,\n\u001b[0;32m      9\u001b[0m     \u001b[38;5;124m\"\u001b[39m\u001b[38;5;124mContact: support@company.com\u001b[39m\u001b[38;5;124m\"\u001b[39m,\n\u001b[0;32m     10\u001b[0m     \u001b[38;5;124m\"\u001b[39m\u001b[38;5;124mNo email here\u001b[39m\u001b[38;5;124m\"\u001b[39m,\n\u001b[0;32m     11\u001b[0m     \u001b[38;5;124m\"\u001b[39m\u001b[38;5;124mAnother one: sales@shop.org\u001b[39m\u001b[38;5;124m\"\u001b[39m\n\u001b[0;32m     12\u001b[0m ]\n\u001b[1;32m---> 14\u001b[0m emails \u001b[38;5;241m=\u001b[39m \u001b[43mextract_emails_from_list\u001b[49m\u001b[43m(\u001b[49m\u001b[43mdataset\u001b[49m\u001b[43m)\u001b[49m\n\u001b[0;32m     15\u001b[0m \u001b[38;5;28mprint\u001b[39m(emails)  \n\u001b[0;32m     16\u001b[0m \u001b[38;5;66;03m# ['john.doe@example.com', 'support@company.com', 'sales@shop.org']\u001b[39;00m\n\u001b[0;32m     17\u001b[0m \n\u001b[0;32m     18\u001b[0m \u001b[38;5;66;03m# function to read data from a file\u001b[39;00m\n",
            "Cell \u001b[1;32mIn[187], line 4\u001b[0m, in \u001b[0;36mextract_emails_from_list\u001b[1;34m(data_list)\u001b[0m\n\u001b[0;32m      2\u001b[0m \u001b[38;5;28;01mdef\u001b[39;00m\u001b[38;5;250m \u001b[39m\u001b[38;5;21mextract_emails_from_list\u001b[39m(data_list):\n\u001b[0;32m      3\u001b[0m     email_pattern \u001b[38;5;241m=\u001b[39m \u001b[38;5;124mr\u001b[39m\u001b[38;5;124m'\u001b[39m\u001b[38;5;124m[a-zA-Z0-9._\u001b[39m\u001b[38;5;124m%\u001b[39m\u001b[38;5;124m+-]+@[a-zA-Z0-9.-]+\u001b[39m\u001b[38;5;124m\\\u001b[39m\u001b[38;5;124m.[a-zA-Z]\u001b[39m\u001b[38;5;124m{\u001b[39m\u001b[38;5;124m2,}\u001b[39m\u001b[38;5;124m'\u001b[39m\n\u001b[1;32m----> 4\u001b[0m     \u001b[38;5;28;01mreturn\u001b[39;00m [email \u001b[38;5;28;01mfor\u001b[39;00m text \u001b[38;5;129;01min\u001b[39;00m data_list \u001b[38;5;28;01mfor\u001b[39;00m email \u001b[38;5;129;01min\u001b[39;00m \u001b[43mre\u001b[49m\u001b[38;5;241m.\u001b[39mfindall(email_pattern, text)]\n",
            "\u001b[1;31mNameError\u001b[0m: name 're' is not defined"
          ]
        }
      ],
      "source": [
        "# function to extract email from the dataset\n",
        "def extract_emails_from_list(data_list):\n",
        "    email_pattern = r'[a-zA-Z0-9._%+-]+@[a-zA-Z0-9.-]+\\.[a-zA-Z]{2,}'\n",
        "    return [email for text in data_list for email in re.findall(email_pattern, text)]\n",
        "\n",
        "# Example usage\n",
        "dataset = [\n",
        "    \"John's email is john.doe@example.com\",\n",
        "    \"Contact: support@company.com\",\n",
        "    \"No email here\",\n",
        "    \"Another one: sales@shop.org\"\n",
        "]\n",
        "\n",
        "emails = extract_emails_from_list(dataset)\n",
        "print(emails)  \n",
        "# ['john.doe@example.com', 'support@company.com', 'sales@shop.org']\n",
        "\n",
        "# function to read data from a file"
      ]
    },
    {
      "cell_type": "code",
      "execution_count": null,
      "metadata": {},
      "outputs": [],
      "source": [
        "'''\n",
        "Scope of a Variable is the block of code in the entier program were variable is declesre , \n",
        "use and modified\n",
        "Life time of a varibale is the through out time the variable is exits in the memory \n",
        "\n",
        "Global and Local\n",
        "    Global variableare define and decleared out side the function and are not spacified to \n",
        "    any function they can be used by any part of the program \n",
        "    ex -- s=\"I am global variable\"\n",
        "    def f():\n",
        "        print(s)\n",
        "    f()\n",
        "    Output: I am global variable    \n",
        "    Local variable are those ie are initialized with in the function and are Unique to that funtion\n",
        "    ex -- \n",
        "    def f():\n",
        "        s=\"I am global variable\"\n",
        "        print(s)\n",
        "    f()\n",
        "    Output: I am global variable \n",
        "\n",
        "   \n",
        "    '''"
      ]
    },
    {
      "cell_type": "code",
      "execution_count": null,
      "metadata": {},
      "outputs": [
        {
          "name": "stdout",
          "output_type": "stream",
          "text": [
            "<function counter at 0x000001998D7AA200>\n",
            "1\n",
            "2\n",
            "3\n",
            "4\n",
            "5\n",
            "6\n",
            "7\n",
            "8\n",
            "9\n",
            "10\n"
          ]
        }
      ],
      "source": [
        "''' Generators in Python\n",
        "'''\n",
        "# def myFunc():\n",
        "#   yield \"Hello\"\n",
        "#   yield 51\n",
        "#   yield \"Good Bye\"\n",
        "\n",
        "# x = myFunc()\n",
        "\n",
        "# for z in x:\n",
        "#   print(z)\n",
        "def counter():\n",
        "    i=1\n",
        "    while i<=10:\n",
        "        yield i\n",
        "        i+=1\n",
        "print(counter)\n",
        "x=counter()\n",
        "print(next(x))\n",
        "print(next(x))\n",
        "\n",
        "for z in x:\n",
        "    print(z)\n"
      ]
    },
    {
      "cell_type": "code",
      "execution_count": null,
      "metadata": {},
      "outputs": [
        {
          "name": "stdout",
          "output_type": "stream",
          "text": [
            "[0, 2, 4, 6, 8, 10]\n"
          ]
        }
      ],
      "source": [
        "# Use Geneartor to find even number \n",
        "\n",
        "def even_numbers(n):\n",
        "    for i in range(0, n + 1, 2):  \n",
        "        yield i\n",
        "\n",
        "evens = even_numbers(10)\n",
        "print(list(evens))  \n"
      ]
    },
    {
      "cell_type": "code",
      "execution_count": null,
      "metadata": {},
      "outputs": [
        {
          "name": "stdout",
          "output_type": "stream",
          "text": [
            "[2, 3, 5, 7]\n"
          ]
        }
      ],
      "source": [
        "# to yield prime number \n",
        "def prime_numbers(n):\n",
        "    def is_prime(num):\n",
        "        if num < 2:\n",
        "            return False\n",
        "        for i in range(2, int(num ** 0.5) + 1):\n",
        "            if num % i == 0:\n",
        "                return False\n",
        "        return True\n",
        "\n",
        "    for num in range(2, n + 1):\n",
        "        if is_prime(num):\n",
        "            yield num\n",
        "\n",
        "primes = prime_numbers(20)\n",
        "print(list(primes))  \n"
      ]
    },
    {
      "cell_type": "code",
      "execution_count": null,
      "metadata": {},
      "outputs": [
        {
          "name": "stdout",
          "output_type": "stream",
          "text": [
            "[1, 3, 5, 7, 9]\n"
          ]
        }
      ],
      "source": [
        "# filter data in odd number using yield\n",
        "def odd_numbers(nums):\n",
        "    for num in nums:\n",
        "        if num % 2 != 0:  \n",
        "            yield num\n",
        "\n",
        "num_list = [1, 2, 3, 4, 5, 6, 7, 8, 9, 10]\n",
        "odd_gen = odd_numbers(num_list)\n",
        "\n",
        "print(list(odd_gen))  \n"
      ]
    },
    {
      "cell_type": "code",
      "execution_count": null,
      "metadata": {},
      "outputs": [
        {
          "name": "stdout",
          "output_type": "stream",
          "text": [
            "0\n",
            "2\n",
            "4\n",
            "6\n",
            "8\n",
            "120\n"
          ]
        }
      ],
      "source": [
        "# using Generator funtion sum of square of even number o to 9\n",
        "\n",
        "# for i in range(10):\n",
        "#     if i%2==0\n",
        "\n",
        "def square_of_even_numbers():\n",
        "    for num in range(10):  # Numbers from 0 to 9\n",
        "        if num % 2 == 0:   # Check if even\n",
        "            yield num ** 2  # Yield square of even number\n",
        "            print(num)\n",
        "# Compute the sum of squares of even numbers\n",
        "sum_of_squares = sum(square_of_even_numbers())\n",
        "print(sum_of_squares)  # Output: 120\n"
      ]
    },
    {
      "cell_type": "code",
      "execution_count": null,
      "metadata": {},
      "outputs": [
        {
          "name": "stdout",
          "output_type": "stream",
          "text": [
            "False\n"
          ]
        }
      ],
      "source": [
        "# check if any number is grater then 5\n",
        "def is_any_greater_than_five(numbers):\n",
        "    return any(num > 5 for num in numbers)\n",
        "\n",
        "# Example usage\n",
        "num_list = [1, 2, 3, 4, 5]\n",
        "print(is_any_greater_than_five(num_list))  \n",
        "\n"
      ]
    },
    {
      "cell_type": "code",
      "execution_count": null,
      "metadata": {},
      "outputs": [
        {
          "name": "stdout",
          "output_type": "stream",
          "text": [
            "True\n"
          ]
        }
      ],
      "source": [
        "def is_any_greater_than_five(numbers):\n",
        "    return all(num > 0 for num in numbers)\n",
        "\n",
        "num_list = [1, 2, 3, 4, 5, 6, 7]\n",
        "print(is_any_greater_than_five(num_list)) \n"
      ]
    },
    {
      "cell_type": "code",
      "execution_count": null,
      "metadata": {},
      "outputs": [
        {
          "name": "stdout",
          "output_type": "stream",
          "text": [
            "Python Java\n"
          ]
        }
      ],
      "source": [
        "words = [\"Python\", \"Java\"]\n",
        "joined_words = \" \".join(words)  # Joins with a space\n",
        "print(joined_words)  # Output: Python Java\n"
      ]
    },
    {
      "cell_type": "code",
      "execution_count": null,
      "metadata": {},
      "outputs": [
        {
          "name": "stdout",
          "output_type": "stream",
          "text": [
            "Before calling the function.\n",
            "Hello, World!\n",
            "After calling the function.\n"
          ]
        }
      ],
      "source": [
        "'''Decorator\n",
        "A decorator is essentially a function that takes another function as an argument and returns \n",
        "a new function with enhanced functionality.\n",
        "'''\n",
        "# A simple decorator function\n",
        "def decorator(func):\n",
        "  \n",
        "    def wrapper():\n",
        "        print(\"Before calling the function.\")\n",
        "        func()\n",
        "        print(\"After calling the function.\")\n",
        "    return wrapper\n",
        "\n",
        "# Applying the decorator to a function\n",
        "@decorator\n",
        "\n",
        "def greet():\n",
        "    print(\"Hello, World!\")\n",
        "\n",
        "greet()\n"
      ]
    },
    {
      "cell_type": "code",
      "execution_count": null,
      "metadata": {},
      "outputs": [
        {
          "name": "stdout",
          "output_type": "stream",
          "text": [
            "Before calling the function.\n",
            "Hello, World!\n",
            "After calling the function.\n"
          ]
        }
      ],
      "source": [
        "def decorator(func):\n",
        "  \n",
        "    def wrapper():\n",
        "        print(\"Before calling the function.\")\n",
        "        func()\n",
        "        print(\"After calling the function.\")\n",
        "    return wrapper\n",
        "\n",
        "# Applying the decorator to a function\n",
        "@decorator\n",
        "\n",
        "def greet():\n",
        "    print(\"Hello, World!\")\n",
        "\n",
        "greet()"
      ]
    },
    {
      "cell_type": "code",
      "execution_count": null,
      "metadata": {},
      "outputs": [
        {
          "name": "stdout",
          "output_type": "stream",
          "text": [
            "25\n"
          ]
        }
      ],
      "source": [
        "# A higher-order function that takes another function as an argument\n",
        "def fun(f, x):\n",
        "    return f(x)\n",
        "\n",
        "# A simple function to pass\n",
        "def square(x):\n",
        "    return x * x\n",
        "\n",
        "# Using apply_function to apply the square function\n",
        "res = fun(square, 5)\n",
        "print(res)  \n"
      ]
    },
    {
      "cell_type": "code",
      "execution_count": null,
      "metadata": {},
      "outputs": [
        {
          "name": "stdout",
          "output_type": "stream",
          "text": [
            "5\n"
          ]
        }
      ],
      "source": [
        "'''Python Classes and Objects\n",
        "'''\n",
        "# Create a Class\n",
        "class MyClass:\n",
        "  x = 5\n",
        "# Create Object\n",
        "p1 = MyClass()\n",
        "print(p1.x)"
      ]
    },
    {
      "cell_type": "code",
      "execution_count": null,
      "metadata": {},
      "outputs": [
        {
          "name": "stdout",
          "output_type": "stream",
          "text": [
            "John\n",
            "36\n"
          ]
        }
      ],
      "source": [
        "# The __init__() Function\n",
        "class Person:\n",
        "  def __init__(self, name, age):\n",
        "    self.name = name\n",
        "    self.age = age\n",
        "\n",
        "p1 = Person(\"John\", 36)\n",
        "\n",
        "print(p1.name)\n",
        "print(p1.age)\n"
      ]
    },
    {
      "cell_type": "code",
      "execution_count": null,
      "metadata": {},
      "outputs": [
        {
          "name": "stdout",
          "output_type": "stream",
          "text": [
            "<__main__.Person object at 0x000001998D705BE0>\n"
          ]
        }
      ],
      "source": [
        "# The __str__() Function\n",
        "class Person:\n",
        "  def __init__(self, name, age):\n",
        "    self.name = name\n",
        "    self.age = age\n",
        "\n",
        "p1 = Person(\"John\", 36)\n",
        "\n",
        "print(p1)\n",
        "\n",
        "\n"
      ]
    },
    {
      "cell_type": "code",
      "execution_count": null,
      "metadata": {},
      "outputs": [
        {
          "name": "stdout",
          "output_type": "stream",
          "text": [
            "Shiwam 85 12\n"
          ]
        }
      ],
      "source": [
        "# Oops\n",
        "class student:\n",
        "    def __init__(self,fullname,marks,rollNo):\n",
        "        self.name = fullname\n",
        "        self.marks= marks\n",
        "        self.rollNo= rollNo\n",
        "\n",
        "s1 = student(\"Shiwam\",85,12)\n",
        "print(s1.name,s1.marks,s1.rollNo)\n"
      ]
    },
    {
      "cell_type": "code",
      "execution_count": null,
      "metadata": {},
      "outputs": [
        {
          "name": "stdout",
          "output_type": "stream",
          "text": [
            "Welcome Shiwam Your Age  20\n"
          ]
        }
      ],
      "source": [
        "# create a class of a person with atribute name and age \n",
        "# write a method greet() that print the greeting method including person name\n",
        "class person:\n",
        "    def __init__(self,name,age):\n",
        "        self.name = name\n",
        "        self.age= age\n",
        "\n",
        "    def greet(self):\n",
        "        print(\"Welcome\",s1.name,\"Your Age \",s1.age)\n",
        "\n",
        "s1 = person(\"Shiwam\",20)\n",
        "s1.greet()\n"
      ]
    },
    {
      "cell_type": "code",
      "execution_count": null,
      "metadata": {},
      "outputs": [
        {
          "name": "stdout",
          "output_type": "stream",
          "text": [
            "Deposited $500. New Balance: 10500\n",
            "Withdrawn $300. New Balance: 10200\n",
            "Withdrawn $2000. New Balance: 8200\n",
            "8200\n"
          ]
        }
      ],
      "source": [
        "# create a bnak ac class with Attribute ac holder and balance \n",
        "# implement method to deposite and widrow money\n",
        "class BankAccount:\n",
        "    def __init__(self, holder_name, balance=1000):\n",
        "        self.holder_name = holder_name\n",
        "        self.balance = balance\n",
        "\n",
        "    def deposit(self, amount):\n",
        "        if amount > 0:\n",
        "            self.balance += amount\n",
        "            print(f\"Deposited ${amount}. New Balance: {self.balance}\")\n",
        "        else:\n",
        "            print(\"Deposit amount must be positive.\")\n",
        "\n",
        "    def withdraw(self, amount):\n",
        "\n",
        "        if 0 < amount <= self.balance:\n",
        "            self.balance -= amount\n",
        "            print(f\"Withdrawn ${amount}. New Balance: {self.balance}\")\n",
        "        elif amount > self.balance:\n",
        "            print(\"Insufficient funds.\")\n",
        "        else:\n",
        "            print(\"Withdrawal amount must be positive.\")\n",
        "\n",
        "    def get_balance(self):\n",
        "        return self.balance\n",
        "\n",
        "account = BankAccount(\"Shiwam\",10000 )\n",
        "account.deposit(500)    # Deposited $500. New Balance: $1500\n",
        "account.withdraw(300)   # Withdrawn $300. New Balance: $1200\n",
        "account.withdraw(2000)  # Insufficient funds.\n",
        "print(account.get_balance())  # 1200\n"
      ]
    },
    {
      "cell_type": "code",
      "execution_count": null,
      "metadata": {},
      "outputs": [
        {
          "name": "stdout",
          "output_type": "stream",
          "text": [
            "📖 Title: The Great Gatsby\n",
            "👨‍💼 Author: F. Scott Fitzgerald\n",
            "💰 Price: $10.99\n",
            "📖 Title: Python Crash Course\n",
            "👨‍💼 Author: Eric Matthes\n",
            "💰 Price: $29.99\n"
          ]
        }
      ],
      "source": [
        "# create a book class title author and price implement that return the book details\n",
        "\n",
        "# class book:\n",
        "#     def __init__(self,title,author,price):\n",
        "#         self.title=title\n",
        "#         self.author=author\n",
        "#         self.price=price\n",
        "class Book:\n",
        "    def __init__(self, title, author, price):\n",
        "        \"\"\"Initialize Book attributes.\"\"\"\n",
        "        self.title = title\n",
        "        self.author = author\n",
        "        self.price = price\n",
        "\n",
        "    def get_details(self):\n",
        "        \"\"\"Return formatted book details.\"\"\"\n",
        "        return f\"📖 Title: {self.title}\\n👨‍💼 Author: {self.author}\\n💰 Price: ${self.price:.2f}\"\n",
        "\n",
        "# Example usage\n",
        "book1 = Book(\"The Great Gatsby\", \"F. Scott Fitzgerald\", 10.99)\n",
        "print(book1.get_details())\n",
        "\n",
        "book2 = Book(\"Python Crash Course\", \"Eric Matthes\", 29.99)\n",
        "print(book2.get_details())\n",
        "        "
      ]
    },
    {
      "cell_type": "code",
      "execution_count": null,
      "metadata": {},
      "outputs": [
        {
          "name": "stdout",
          "output_type": "stream",
          "text": [
            "Area: 78.54\n",
            "Circumference: 31.42\n"
          ]
        }
      ],
      "source": [
        "# create a circle class with atributes radis imp clculate area functin and cal cicumfarace\n",
        "class Circle:\n",
        "    PI = 3.1416  # Approximate value of π\n",
        "\n",
        "    def __init__(self, radius):\n",
        "        self.radius = radius\n",
        "\n",
        "    def calculate_area(self):  #pi r^2\n",
        "        return Circle.PI * self.radius * self.radius\n",
        "\n",
        "    def calculate_circumference(self):\n",
        "        return 2 * Circle.PI * self.radius  #2 pie r\n",
        "\n",
        "# Example usage\n",
        "circle1 = Circle(5)\n",
        "\n",
        "print(f\"Area: {circle1.calculate_area():.2f}\")  # Output: 78.54\n",
        "print(f\"Circumference: {circle1.calculate_circumference():.2f}\")  # Output: 31.42\n"
      ]
    },
    {
      "cell_type": "code",
      "execution_count": null,
      "metadata": {},
      "outputs": [
        {
          "name": "stdout",
          "output_type": "stream",
          "text": [
            "📚 Student: Shiwam\n",
            "📊 Average Marks: 86.60\n",
            "📚 Student: Bob\n",
            "📊 Average Marks: 0.00\n"
          ]
        }
      ],
      "source": [
        "# create a student with attributes name masrks (list) cal average function that return avg marks\n",
        "class Student:\n",
        "    def __init__(self, name,marks):\n",
        "        self.name = name\n",
        "        self.marks=marks\n",
        "\n",
        "    def calculate(self): \n",
        "        if not self.marks:  # Check if marks list is empty\n",
        "            return 0 \n",
        "        return sum(self.marks) / len(self.marks)\n",
        "\n",
        "# Example usage\n",
        "student1 = student(\"Shiwam\",[85, 90, 78, 92, 88])\n",
        "\n",
        "print(f\"📚 Student: {student1.name}\")\n",
        "print(f\"📊 Average Marks: {student1.calculate():.2f}\")  # Output: 86.60\n",
        "\n",
        "student2 = Student(\"Bob\", [])\n",
        "print(f\"📚 Student: {student2.name}\")\n",
        "print(f\"📊 Average Marks: {student2.calculate():.2f}\")  # Output: 0.00\n"
      ]
    },
    {
      "cell_type": "code",
      "execution_count": null,
      "metadata": {},
      "outputs": [
        {
          "name": "stdout",
          "output_type": "stream",
          "text": [
            "Shiwam Verma\n"
          ]
        }
      ],
      "source": [
        "# Inheritance\n",
        "# Inheritance allows us to define a class that inherits all the methods and properties from another class.\n",
        "class Person:\n",
        "    def __init__(self,fname,lname):\n",
        "     self.firstName=fname\n",
        "     self.lastName=lname\n",
        "\n",
        "    def printname(self):\n",
        "     print(self.firstName,self.lastName)  \n",
        "\n",
        "x = Person(\"Shiwam\",\"Verma\")\n",
        "x.printname()\n"
      ]
    },
    {
      "cell_type": "code",
      "execution_count": null,
      "metadata": {},
      "outputs": [
        {
          "name": "stdout",
          "output_type": "stream",
          "text": [
            "HONDA AMAZE 2022 17\n"
          ]
        }
      ],
      "source": [
        "# create a parrent class vehchile and child class car inhar model milage\n",
        "class vehicle:\n",
        "    def __init__(self,brand,year):\n",
        "        self.brand= brand\n",
        "        self.year=year\n",
        "\n",
        "class car(vehicle):\n",
        "    def __init__(self, brand, year,model,millage):\n",
        "        super().__init__(brand, year)\n",
        "        self.model=model\n",
        "        self.millage=millage\n",
        "\n",
        "\n",
        "obj  = car(\"HONDA\",2022,\"AMAZE\",17)\n",
        "print(obj.brand,obj.model,obj.year,obj.millage)"
      ]
    },
    {
      "cell_type": "code",
      "execution_count": null,
      "metadata": {},
      "outputs": [
        {
          "name": "stdout",
          "output_type": "stream",
          "text": [
            "Method from Parent1\n",
            "Method from Parent2\n",
            "Method from Child\n",
            "1234567890\n",
            "securePass123\n"
          ]
        }
      ],
      "source": [
        "# bank_acc\n",
        "# adress\n",
        "# user_name\n",
        "# password\n",
        "# social_media\n",
        "# id\n",
        "class Parent1:\n",
        "\n",
        "    def __init__(self, bank_acc, address):\n",
        "        self.__bank_acc = bank_acc\n",
        "        self.address = address\n",
        "\n",
        "    def method1(self):\n",
        "        print(\"Method from Parent1\")\n",
        "\n",
        "\n",
        "    def get_bank_acc(self):  # Getter for private attribute\n",
        "        return self.__bank_acc\n",
        "\n",
        "\n",
        "class Parent2:\n",
        "    def __init__(self,user_name,password):\n",
        "       self.user_name = user_name\n",
        "       self.__password = password\n",
        "       \n",
        "    def method2(self):\n",
        "        print(\"Method from Parent2\")\n",
        "\n",
        "    def get_password(self):  # Getter for private attribute\n",
        "        return self.__password  # Hides actual password for security   \n",
        "\n",
        "\n",
        "class Child(Parent1, Parent2):  # Multiple inheritance\n",
        "\n",
        "    def __init__(self, bank_acc, address,user_name,password,social_media,id):\n",
        "        Parent1.__init__(self, bank_acc, address)  # Correct call\n",
        "        Parent2.__init__(self, user_name, password)\n",
        "        \n",
        "        self.social_media=social_media\n",
        "        self.id=id\n",
        "\n",
        "    def method3(self):\n",
        "        print(\"Method from Child\")\n",
        "\n",
        "\n",
        "\n",
        "obj = Child(\"1234567890\", \"New York\", \"Shiwam Kumar\", \"securePass123\", \"@shiwam\", \"ID12345\")\n",
        "obj.method1()  # Inherited from Parent1\n",
        "obj.method2()  # Inherited from Parent2\n",
        "obj.method3()  # Child class method\n",
        "\n",
        "print(obj.get_bank_acc())\n",
        "print(obj.get_password())"
      ]
    },
    {
      "cell_type": "code",
      "execution_count": null,
      "metadata": {},
      "outputs": [
        {
          "data": {
            "text/plain": [
              "'securePass123'"
            ]
          },
          "execution_count": 397,
          "metadata": {},
          "output_type": "execute_result"
        }
      ],
      "source": [
        "class Parent1:\n",
        "    def __init__(self, bank_acc, address):\n",
        "        self.__bank_acc = bank_acc  # Private attribute\n",
        "        self.address = address\n",
        "\n",
        "    def method1(self):\n",
        "        print(\"Method from Parent1\")\n",
        "\n",
        "    def get_bank_acc(self):  # Getter for private attribute\n",
        "        return self.__bank_acc\n",
        "\n",
        "\n",
        "class Parent2:\n",
        "    def __init__(self, user_name, password):\n",
        "        self.user_name = user_name\n",
        "        self.__password = password  # Private attribute\n",
        "\n",
        "    def method2(self):\n",
        "        print(\"Method from Parent2\")\n",
        "\n",
        "    def get_password(self):  # Getter for private attribute\n",
        "        return \"******\"  # Hides actual password for security\n",
        "\n",
        "\n",
        "class Child(Parent1, Parent2):  # Multiple inheritance\n",
        "    def __init__(self, bank_acc, address, user_name, password, social_media, id):\n",
        "        Parent1.__init__(self, bank_acc, address)  # Correct call\n",
        "        Parent2.__init__(self, user_name, password)  # Correct call\n",
        "\n",
        "        self.social_media = social_media\n",
        "        self.id = id\n",
        "\n",
        "    def method3(self):\n",
        "        print(\"Method from Child\")\n",
        "\n",
        "\n",
        "# # Creating an object with required arguments\n",
        "obj = Child(\"1234567890\", \"New York\", \"Shiwam Kumar\", \"securePass123\", \"@shiwam\", \"ID12345\")\n",
        "\n",
        "# obj.method1()  # Inherited from Parent1\n",
        "# obj.method2()  # Inherited from Parent2\n",
        "# obj.method3()  # Child class method\n",
        "obj._Parent2__password\n",
        "\n",
        "# Accessing values (private attributes via getter methods)\n",
        "# print(\"Bank Account:\", obj.get_bank_acc())  # Output: Bank Account: 1234567890\n",
        "# print(\"Password:\", obj.get_password())  # Output: Password: ******\n",
        "# print(\"Username:\", obj.user_name)  # Output: john_doe\n",
        "# print(\"Social Media:\", obj.social_media)  # Output: @johndoe\n"
      ]
    },
    {
      "cell_type": "code",
      "execution_count": null,
      "metadata": {},
      "outputs": [],
      "source": [
        "# Parent class\n",
        "class Vehicle:\n",
        "    def _init_(self, brand):\n",
        "        self.brand = brand\n",
        "\n",
        "    def show_brand(self):\n",
        "        print(f\"Vehicle Brand: {self.brand}\")\n",
        "\n",
        "# Child class 1\n",
        "class Car(Vehicle):\n",
        "    def _init_(self, brand, model):\n",
        "        super()._init_(brand)\n",
        "        self.model = model\n",
        "\n",
        "    def show_details(self):\n",
        "        print(f\"Car Model: {self.model}\")\n",
        "\n",
        "# Child class 2\n",
        "class Bike(Vehicle):\n",
        "    def _init_(self, brand, type):\n",
        "        super()._init_(brand)\n",
        "        self.type = type\n",
        "\n",
        "    def show_details(self):\n",
        "        print(f\"Bike Type: {self.type}\")"
      ]
    },
    {
      "cell_type": "code",
      "execution_count": null,
      "metadata": {},
      "outputs": [
        {
          "name": "stdout",
          "output_type": "stream",
          "text": [
            "Father : RAM\n",
            "Mother : SITA\n"
          ]
        }
      ],
      "source": [
        "# Python program to demonstrate\n",
        "# multiple inheritance\n",
        "\n",
        "# Base class1\n",
        "class Mother:\n",
        "\tmothername = \"\"\n",
        "\n",
        "\tdef mother(self):\n",
        "\t\tprint(self.mothername)\n",
        "\n",
        "# Base class2\n",
        "\n",
        "class Father:\n",
        "\tfathername = \"\"\n",
        "\n",
        "\tdef father(self):\n",
        "\t\tprint(self.fathername)\n",
        "\n",
        "# Derived class\n",
        "\n",
        "class Son(Mother, Father):\n",
        "\tdef parents(self):\n",
        "\t\tprint(\"Father :\", self.fathername)\n",
        "\t\tprint(\"Mother :\", self.mothername)\n",
        "\n",
        "\n",
        "# Driver's code\n",
        "s1 = Son()\n",
        "s1.fathername = \"RAM\"\n",
        "s1.mothername = \"SITA\"\n",
        "s1.parents()\n"
      ]
    },
    {
      "cell_type": "code",
      "execution_count": null,
      "metadata": {},
      "outputs": [
        {
          "name": "stdout",
          "output_type": "stream",
          "text": [
            "Sanjay Kumar Verma\n",
            "GrandFather Name : Sanjay Kumar Verma\n",
            "Father Name      : Shiwam\n",
            "Son Name         : Sahil\n"
          ]
        }
      ],
      "source": [
        "# multilevel inheritance\n",
        "\n",
        "# Base class\n",
        "class GrandFather:\n",
        "    def __init__(self,grandFathername):\n",
        "        self.grandFathername=grandFathername\n",
        "\n",
        "# Intermediate class\n",
        "class Father(GrandFather):\n",
        "    def __init__(self, fathername, grandFathername):\n",
        "        self.fathername=fathername\n",
        "\n",
        "        GrandFather.__init__(self,grandFathername)\n",
        "\n",
        "# Derived class\n",
        "class Son(Father):\n",
        "    def __init__(self,sonname, fathername, grandFathername):\n",
        "        self.sonname=sonname\n",
        "\n",
        "        Father.__init__(self,fathername,grandFathername)\n",
        "\n",
        "    def display_name(self):\n",
        "\n",
        "        print(\"GrandFather Name :\",self.grandFathername)\n",
        "        print(\"Father Name      :\",self.fathername)\n",
        "        print(\"Son Name         :\",self.sonname)\n",
        "\n",
        "obj=Son(\"Sahil\",\"Shiwam\",\"Sanjay Kumar Verma\")\n",
        "print(obj.grandFathername)\n",
        "obj.display_name()\n",
        "\n"
      ]
    },
    {
      "cell_type": "code",
      "execution_count": null,
      "metadata": {},
      "outputs": [],
      "source": [
        "# Hierarchical inheritance\n",
        "\n",
        "# Base class\n",
        "class Parent:\n",
        "    def __init__(self):\n",
        "        print(\"This class is Parent Class\")\n",
        "\n",
        "class child1(Parent):\n",
        "    def __init__(self):\n",
        "        print(\"This class is Parent Class\")\n"
      ]
    },
    {
      "cell_type": "code",
      "execution_count": null,
      "metadata": {},
      "outputs": [],
      "source": [
        "# drived class grad parnt\n",
        "\n",
        "#  p   p1 ==ch1, ch2, \n",
        "#     p2== ch3, ch4\n",
        "\n",
        "class staff:           #Parent 1\n",
        "    def __init__(self,department):\n",
        "        self.department=department\n",
        "        \n",
        "    def display(self):\n",
        "        print(f\"Staff Of Department: {self.department}\")\n",
        "\n",
        "\n",
        "class teaching(staff):   #Child_1  of parent_1\n",
        "    def __init__(self,department,subject):\n",
        "        super().__init__(department)\n",
        "        self.subject=subject\n",
        "\n",
        "class non_teaching(staff):   #Child_2  of parent_1\n",
        "    def __init__(self,department,cource):\n",
        "        super().__init__(department)\n",
        "        self.cource=cource\n",
        "        \n",
        "'''Second Class'''\n",
        "\n",
        "class staff:           #Parent 2\n",
        "    def __init__(self,department):\n",
        "        self.department=department\n",
        "        \n",
        "    def display(self):\n",
        "        print(f\"Staff Of Department: {self.department}\")\n",
        "\n",
        "\n",
        "class teaching(staff):   #Child_1  of parent_1\n",
        "    def __init__(self,department,subject):\n",
        "        super().__init__(department)\n",
        "        self.subject=subject\n",
        "\n",
        "class non_teaching(staff):   #Child_2  of parent_1\n",
        "    def __init__(self,department,cource):\n",
        "        super().__init__(department)\n",
        "        self.cource=cource\n",
        "\n"
      ]
    }
  ],
  "metadata": {
    "colab": {
      "provenance": []
    },
    "kernelspec": {
      "display_name": "Python 3",
      "name": "python3"
    },
    "language_info": {
      "codemirror_mode": {
        "name": "ipython",
        "version": 3
      },
      "file_extension": ".py",
      "mimetype": "text/x-python",
      "name": "python",
      "nbconvert_exporter": "python",
      "pygments_lexer": "ipython3",
      "version": "3.13.0"
    }
  },
  "nbformat": 4,
  "nbformat_minor": 0
}
